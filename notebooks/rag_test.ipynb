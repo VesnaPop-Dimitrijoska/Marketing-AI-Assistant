{
 "cells": [
  {
   "cell_type": "code",
   "execution_count": 1,
   "metadata": {},
   "outputs": [
    {
     "name": "stdout",
     "output_type": "stream",
     "text": [
      "--2024-09-09 17:23:01--  https://raw.githubusercontent.com/alexeygrigorev/minsearch/main/minsearch.py\n",
      "Resolving raw.githubusercontent.com (raw.githubusercontent.com)... 185.199.111.133, 185.199.110.133, 185.199.108.133, ...\n",
      "Connecting to raw.githubusercontent.com (raw.githubusercontent.com)|185.199.111.133|:443... connected.\n",
      "HTTP request sent, awaiting response... 200 OK\n",
      "Length: 3832 (3,7K) [text/plain]\n",
      "Saving to: ‘minsearch.py.5’\n",
      "\n",
      "minsearch.py.5      100%[===================>]   3,74K  --.-KB/s    in 0s      \n",
      "\n",
      "2024-09-09 17:23:02 (37,7 MB/s) - ‘minsearch.py.5’ saved [3832/3832]\n",
      "\n"
     ]
    }
   ],
   "source": [
    "!wget https://raw.githubusercontent.com/alexeygrigorev/minsearch/main/minsearch.py"
   ]
  },
  {
   "cell_type": "code",
   "execution_count": 2,
   "metadata": {},
   "outputs": [],
   "source": [
    "import pandas as pd\n",
    "import minsearch\n",
    "import os\n",
    "import random\n",
    "from tqdm.auto import tqdm\n",
    "import json\n",
    "\n",
    "openai_api_key = os.environ.get('OPENAI_API_KEY')\n",
    "from openai import OpenAI"
   ]
  },
  {
   "cell_type": "code",
   "execution_count": 3,
   "metadata": {},
   "outputs": [
    {
     "data": {
      "text/html": [
       "<div>\n",
       "<style scoped>\n",
       "    .dataframe tbody tr th:only-of-type {\n",
       "        vertical-align: middle;\n",
       "    }\n",
       "\n",
       "    .dataframe tbody tr th {\n",
       "        vertical-align: top;\n",
       "    }\n",
       "\n",
       "    .dataframe thead th {\n",
       "        text-align: right;\n",
       "    }\n",
       "</style>\n",
       "<table border=\"1\" class=\"dataframe\">\n",
       "  <thead>\n",
       "    <tr style=\"text-align: right;\">\n",
       "      <th></th>\n",
       "      <th>Question_ID</th>\n",
       "      <th>Question</th>\n",
       "      <th>Answer</th>\n",
       "    </tr>\n",
       "  </thead>\n",
       "  <tbody>\n",
       "    <tr>\n",
       "      <th>0</th>\n",
       "      <td>1</td>\n",
       "      <td>What is the difference between SEO and SEM?</td>\n",
       "      <td>SEO focuses on organic search results, while S...</td>\n",
       "    </tr>\n",
       "    <tr>\n",
       "      <th>1</th>\n",
       "      <td>2</td>\n",
       "      <td>What is a meta description?</td>\n",
       "      <td>A meta description is a brief summary of a web...</td>\n",
       "    </tr>\n",
       "    <tr>\n",
       "      <th>2</th>\n",
       "      <td>3</td>\n",
       "      <td>What is a keyword density?</td>\n",
       "      <td>Keyword density is the number of times a keywo...</td>\n",
       "    </tr>\n",
       "    <tr>\n",
       "      <th>3</th>\n",
       "      <td>4</td>\n",
       "      <td>What is a backlink?</td>\n",
       "      <td>A backlink is a hyperlink that points to your ...</td>\n",
       "    </tr>\n",
       "    <tr>\n",
       "      <th>4</th>\n",
       "      <td>5</td>\n",
       "      <td>What is a website audit?</td>\n",
       "      <td>A website audit is a comprehensive analysis of...</td>\n",
       "    </tr>\n",
       "    <tr>\n",
       "      <th>...</th>\n",
       "      <td>...</td>\n",
       "      <td>...</td>\n",
       "      <td>...</td>\n",
       "    </tr>\n",
       "    <tr>\n",
       "      <th>131</th>\n",
       "      <td>132</td>\n",
       "      <td>What is a marketing operations certification e...</td>\n",
       "      <td>A marketing operations certification exam is a...</td>\n",
       "    </tr>\n",
       "    <tr>\n",
       "      <th>132</th>\n",
       "      <td>133</td>\n",
       "      <td>What is a marketing operations professional as...</td>\n",
       "      <td>A marketing operations professional associatio...</td>\n",
       "    </tr>\n",
       "    <tr>\n",
       "      <th>133</th>\n",
       "      <td>134</td>\n",
       "      <td>What is a marketing operations job description?</td>\n",
       "      <td>A marketing operations job description outline...</td>\n",
       "    </tr>\n",
       "    <tr>\n",
       "      <th>134</th>\n",
       "      <td>135</td>\n",
       "      <td>What is a marketing operations salary survey?</td>\n",
       "      <td>A marketing operations salary survey provides ...</td>\n",
       "    </tr>\n",
       "    <tr>\n",
       "      <th>135</th>\n",
       "      <td>136</td>\n",
       "      <td>What is a marketing operations industry report?</td>\n",
       "      <td>A marketing operations industry report provide...</td>\n",
       "    </tr>\n",
       "  </tbody>\n",
       "</table>\n",
       "<p>136 rows × 3 columns</p>\n",
       "</div>"
      ],
      "text/plain": [
       "     Question_ID                                           Question  \\\n",
       "0              1        What is the difference between SEO and SEM?   \n",
       "1              2                        What is a meta description?   \n",
       "2              3                         What is a keyword density?   \n",
       "3              4                                What is a backlink?   \n",
       "4              5                           What is a website audit?   \n",
       "..           ...                                                ...   \n",
       "131          132  What is a marketing operations certification e...   \n",
       "132          133  What is a marketing operations professional as...   \n",
       "133          134    What is a marketing operations job description?   \n",
       "134          135      What is a marketing operations salary survey?   \n",
       "135          136    What is a marketing operations industry report?   \n",
       "\n",
       "                                                Answer  \n",
       "0    SEO focuses on organic search results, while S...  \n",
       "1    A meta description is a brief summary of a web...  \n",
       "2    Keyword density is the number of times a keywo...  \n",
       "3    A backlink is a hyperlink that points to your ...  \n",
       "4    A website audit is a comprehensive analysis of...  \n",
       "..                                                 ...  \n",
       "131  A marketing operations certification exam is a...  \n",
       "132  A marketing operations professional associatio...  \n",
       "133  A marketing operations job description outline...  \n",
       "134  A marketing operations salary survey provides ...  \n",
       "135  A marketing operations industry report provide...  \n",
       "\n",
       "[136 rows x 3 columns]"
      ]
     },
     "execution_count": 3,
     "metadata": {},
     "output_type": "execute_result"
    }
   ],
   "source": [
    "df = pd.read_csv('../data/data.csv', sep=';')\n",
    "df"
   ]
  },
  {
   "cell_type": "code",
   "execution_count": 4,
   "metadata": {},
   "outputs": [
    {
     "data": {
      "text/plain": [
       "{'Question_ID': 1,\n",
       " 'Question': 'What is the difference between SEO and SEM?',\n",
       " 'Answer': 'SEO focuses on organic search results, while SEM includes both organic and paid search results.'}"
      ]
     },
     "execution_count": 4,
     "metadata": {},
     "output_type": "execute_result"
    }
   ],
   "source": [
    "documents = df.to_dict(orient='records')\n",
    "documents[0]"
   ]
  },
  {
   "cell_type": "markdown",
   "metadata": {},
   "source": [
    "## Ingestion"
   ]
  },
  {
   "cell_type": "code",
   "execution_count": 5,
   "metadata": {},
   "outputs": [],
   "source": [
    "index = minsearch.Index(\n",
    "    text_fields=['Question', 'Answer'],\n",
    "    keyword_fields=[]\n",
    ")"
   ]
  },
  {
   "cell_type": "code",
   "execution_count": 6,
   "metadata": {},
   "outputs": [
    {
     "data": {
      "text/plain": [
       "<minsearch.Index at 0x7254c6c6dee0>"
      ]
     },
     "execution_count": 6,
     "metadata": {},
     "output_type": "execute_result"
    }
   ],
   "source": [
    "index.fit(documents)"
   ]
  },
  {
   "cell_type": "markdown",
   "metadata": {},
   "source": [
    "## RAG flow"
   ]
  },
  {
   "cell_type": "code",
   "execution_count": 7,
   "metadata": {},
   "outputs": [],
   "source": [
    "from langfuse.callback import CallbackHandler\n",
    "\n",
    "langfuse_handler = CallbackHandler(\n",
    "    public_key=os.getenv(\"LANGFUSE_PUBLIC_KEY\"),\n",
    "    secret_key=os.getenv(\"LANGFUSE_SECRET_KEY\"),\n",
    "    host=os.getenv(\"LANGFUSE_HOST\"),\n",
    ")"
   ]
  },
  {
   "cell_type": "code",
   "execution_count": 8,
   "metadata": {},
   "outputs": [],
   "source": [
    "from langfuse.openai import openai\n",
    "\n",
    "openai.langfuse_auth_check()\n",
    "\n",
    "client = OpenAI()"
   ]
  },
  {
   "cell_type": "code",
   "execution_count": 9,
   "metadata": {},
   "outputs": [],
   "source": [
    "def search(query):\n",
    "    boost = {}\n",
    "\n",
    "    results = index.search(\n",
    "        query=query,\n",
    "        filter_dict={},\n",
    "        boost_dict=boost,\n",
    "        num_results=10\n",
    "    )\n",
    "\n",
    "    return results"
   ]
  },
  {
   "cell_type": "code",
   "execution_count": 10,
   "metadata": {},
   "outputs": [],
   "source": [
    "prompt_template = \"\"\"\n",
    "You are a marketing expert providing answers based on the FAQ database. Answer the QUESTION using only the information from the CONTEXT.\n",
    "\n",
    "QUESTION: {question}\n",
    "\n",
    "CONTEXT: \n",
    "{context}\n",
    "\"\"\".strip()\n",
    "\n",
    "entry_template = \"\"\"\n",
    "Question_id:{Question_ID}\n",
    "Question: {Question}\n",
    "Answer: {Answer}\n",
    "\"\"\".strip()\n",
    "\n",
    "def build_prompt(query, search_results):\n",
    "\n",
    "    context = \"\"\n",
    "    \n",
    "    for doc in search_results:\n",
    "        context = context + entry_template.format(**doc) + \"\\n\\n\"\n",
    "    \n",
    "    prompt = prompt_template.format(question=query, context=context).strip()\n",
    "    return prompt"
   ]
  },
  {
   "cell_type": "code",
   "execution_count": 11,
   "metadata": {},
   "outputs": [],
   "source": [
    "\n",
    "def llm(prompt, model='gpt-4o-mini'):\n",
    "    response = client.chat.completions.create(\n",
    "        model=model,\n",
    "        messages=[{\"role\": \"user\", \"content\": prompt}]\n",
    "    )\n",
    "    \n",
    "    return response.choices[0].message.content"
   ]
  },
  {
   "cell_type": "code",
   "execution_count": 12,
   "metadata": {},
   "outputs": [],
   "source": [
    "def rag(query, model='gpt-4o-mini'):\n",
    "    search_results = search(query)\n",
    "    prompt = build_prompt(query, search_results)\n",
    "    answer = llm(prompt, model=model)\n",
    "    return answer"
   ]
  },
  {
   "cell_type": "code",
   "execution_count": 13,
   "metadata": {},
   "outputs": [
    {
     "name": "stdout",
     "output_type": "stream",
     "text": [
      "Email marketing is the practice of sending targeted emails to a list of subscribers to promote products or services. It involves creating email marketing campaigns, which are a series of emails sent to a targeted audience for promotion. Additionally, email marketing automation allows for the automation of tasks such as sending personalized emails and triggering campaigns based on user behavior. Email marketing analytics plays a crucial role in measuring and analyzing the performance of these campaigns. To effectively manage these efforts, an email marketing service provider (ESP) can be used, and email list segmentation helps in dividing the email list into smaller, more targeted groups.\n"
     ]
    }
   ],
   "source": [
    "question = 'What do you know about email marketing??'\n",
    "answer = rag(question)\n",
    "print(answer)"
   ]
  },
  {
   "cell_type": "markdown",
   "metadata": {},
   "source": [
    "## Retrieval evaluation"
   ]
  },
  {
   "cell_type": "code",
   "execution_count": 14,
   "metadata": {},
   "outputs": [
    {
     "data": {
      "text/html": [
       "<div>\n",
       "<style scoped>\n",
       "    .dataframe tbody tr th:only-of-type {\n",
       "        vertical-align: middle;\n",
       "    }\n",
       "\n",
       "    .dataframe tbody tr th {\n",
       "        vertical-align: top;\n",
       "    }\n",
       "\n",
       "    .dataframe thead th {\n",
       "        text-align: right;\n",
       "    }\n",
       "</style>\n",
       "<table border=\"1\" class=\"dataframe\">\n",
       "  <thead>\n",
       "    <tr style=\"text-align: right;\">\n",
       "      <th></th>\n",
       "      <th>Question_ID</th>\n",
       "      <th>Question</th>\n",
       "    </tr>\n",
       "  </thead>\n",
       "  <tbody>\n",
       "    <tr>\n",
       "      <th>0</th>\n",
       "      <td>1</td>\n",
       "      <td>What are the main distinctions between SEO and...</td>\n",
       "    </tr>\n",
       "    <tr>\n",
       "      <th>1</th>\n",
       "      <td>1</td>\n",
       "      <td>Can you explain how SEO contributes to organic...</td>\n",
       "    </tr>\n",
       "    <tr>\n",
       "      <th>2</th>\n",
       "      <td>1</td>\n",
       "      <td>What elements are included in SEM apart from o...</td>\n",
       "    </tr>\n",
       "    <tr>\n",
       "      <th>3</th>\n",
       "      <td>1</td>\n",
       "      <td>How do SEO and SEM work together to improve on...</td>\n",
       "    </tr>\n",
       "    <tr>\n",
       "      <th>4</th>\n",
       "      <td>1</td>\n",
       "      <td>Is it possible for a business to rely solely o...</td>\n",
       "    </tr>\n",
       "    <tr>\n",
       "      <th>...</th>\n",
       "      <td>...</td>\n",
       "      <td>...</td>\n",
       "    </tr>\n",
       "    <tr>\n",
       "      <th>675</th>\n",
       "      <td>136</td>\n",
       "      <td>Can you explain what a marketing operations in...</td>\n",
       "    </tr>\n",
       "    <tr>\n",
       "      <th>676</th>\n",
       "      <td>136</td>\n",
       "      <td>What type of insights can I expect to find in ...</td>\n",
       "    </tr>\n",
       "    <tr>\n",
       "      <th>677</th>\n",
       "      <td>136</td>\n",
       "      <td>What are some of the trends highlighted in a m...</td>\n",
       "    </tr>\n",
       "    <tr>\n",
       "      <th>678</th>\n",
       "      <td>136</td>\n",
       "      <td>How can a marketing operations industry report...</td>\n",
       "    </tr>\n",
       "    <tr>\n",
       "      <th>679</th>\n",
       "      <td>136</td>\n",
       "      <td>Is a marketing operations industry report bene...</td>\n",
       "    </tr>\n",
       "  </tbody>\n",
       "</table>\n",
       "<p>680 rows × 2 columns</p>\n",
       "</div>"
      ],
      "text/plain": [
       "     Question_ID                                           Question\n",
       "0              1  What are the main distinctions between SEO and...\n",
       "1              1  Can you explain how SEO contributes to organic...\n",
       "2              1  What elements are included in SEM apart from o...\n",
       "3              1  How do SEO and SEM work together to improve on...\n",
       "4              1  Is it possible for a business to rely solely o...\n",
       "..           ...                                                ...\n",
       "675          136  Can you explain what a marketing operations in...\n",
       "676          136  What type of insights can I expect to find in ...\n",
       "677          136  What are some of the trends highlighted in a m...\n",
       "678          136  How can a marketing operations industry report...\n",
       "679          136  Is a marketing operations industry report bene...\n",
       "\n",
       "[680 rows x 2 columns]"
      ]
     },
     "execution_count": 14,
     "metadata": {},
     "output_type": "execute_result"
    }
   ],
   "source": [
    "df_question = pd.read_csv('../data/ground-truth-retrieval.csv')\n",
    "df_question"
   ]
  },
  {
   "cell_type": "code",
   "execution_count": 15,
   "metadata": {},
   "outputs": [
    {
     "data": {
      "text/plain": [
       "{'Question_ID': 1,\n",
       " 'Question': 'What are the main distinctions between SEO and SEM in terms of search strategies?'}"
      ]
     },
     "execution_count": 15,
     "metadata": {},
     "output_type": "execute_result"
    }
   ],
   "source": [
    "ground_truth = df_question.to_dict(orient='records')\n",
    "ground_truth[0]"
   ]
  },
  {
   "cell_type": "code",
   "execution_count": 16,
   "metadata": {},
   "outputs": [],
   "source": [
    "def hit_rate(relevance_total):\n",
    "    cnt = 0\n",
    "\n",
    "    for line in relevance_total:\n",
    "        if True in line:\n",
    "            cnt = cnt + 1\n",
    "\n",
    "    return cnt / len(relevance_total)\n",
    "\n",
    "def mrr(relevance_total):\n",
    "    total_score = 0.0\n",
    "\n",
    "    for line in relevance_total:\n",
    "        for rank in range(len(line)):\n",
    "            if line[rank] == True:\n",
    "                total_score = total_score + 1 / (rank + 1)\n",
    "\n",
    "    return total_score / len(relevance_total)"
   ]
  },
  {
   "cell_type": "code",
   "execution_count": 17,
   "metadata": {},
   "outputs": [],
   "source": [
    "def minsearch_search(query):\n",
    "    boost = {}\n",
    "\n",
    "    results = index.search(\n",
    "        query=query,\n",
    "        filter_dict={},\n",
    "        boost_dict=boost,\n",
    "        num_results=10\n",
    "    )\n",
    "\n",
    "    return results"
   ]
  },
  {
   "cell_type": "code",
   "execution_count": 18,
   "metadata": {},
   "outputs": [],
   "source": [
    "def evaluate(ground_truth, search_function):\n",
    "    relevance_total = []\n",
    "\n",
    "    for q in tqdm(ground_truth):\n",
    "        doc_id = q['Question_ID']\n",
    "        results = search_function(q)\n",
    "        relevance = [d['Question_ID'] == doc_id for d in results]\n",
    "        relevance_total.append(relevance)\n",
    "\n",
    "    return {\n",
    "        'hit_rate': round(hit_rate(relevance_total), 4),\n",
    "        'mrr': round(mrr(relevance_total), 4),\n",
    "    }"
   ]
  },
  {
   "cell_type": "code",
   "execution_count": 19,
   "metadata": {},
   "outputs": [
    {
     "data": {
      "application/vnd.jupyter.widget-view+json": {
       "model_id": "57e23ea044c44899b49df5f118e03ee4",
       "version_major": 2,
       "version_minor": 0
      },
      "text/plain": [
       "  0%|          | 0/680 [00:00<?, ?it/s]"
      ]
     },
     "metadata": {},
     "output_type": "display_data"
    },
    {
     "data": {
      "text/plain": [
       "{'hit_rate': 0.9838, 'mrr': 0.9256}"
      ]
     },
     "execution_count": 19,
     "metadata": {},
     "output_type": "execute_result"
    }
   ],
   "source": [
    "evaluate(ground_truth, lambda q: minsearch_search(q['Question']))"
   ]
  },
  {
   "cell_type": "markdown",
   "metadata": {},
   "source": [
    "#### Finding the best parameters"
   ]
  },
  {
   "cell_type": "code",
   "execution_count": 20,
   "metadata": {},
   "outputs": [],
   "source": [
    "df_validation = df_question[:80]\n",
    "df_test = df_question[80:]"
   ]
  },
  {
   "cell_type": "code",
   "execution_count": 21,
   "metadata": {},
   "outputs": [],
   "source": [
    "def simple_optimize(param_ranges, objective_function, n_iterations=50):\n",
    "    best_params = None\n",
    "    best_score = float('-inf')\n",
    "    \n",
    "    for _ in range(n_iterations):\n",
    "        # Generate random parameters\n",
    "        current_params = {}\n",
    "        for param, (min_val, max_val) in param_ranges.items():\n",
    "            if isinstance(min_val, int) and isinstance(max_val, int):\n",
    "                current_params[param] = random.randint(min_val, max_val)\n",
    "            else:\n",
    "                current_params[param] = random.uniform(min_val, max_val)\n",
    "                \n",
    "        # Evaluate the objective function\n",
    "        current_score = objective_function(current_params)\n",
    "        \n",
    "        # Update best if current is better\n",
    "        if current_score > best_score:\n",
    "            best_score = current_score\n",
    "            best_params = current_params\n",
    "    \n",
    "    return best_params, best_score"
   ]
  },
  {
   "cell_type": "code",
   "execution_count": 22,
   "metadata": {},
   "outputs": [],
   "source": [
    "gt_val = df_validation.to_dict(orient='records')"
   ]
  },
  {
   "cell_type": "code",
   "execution_count": 23,
   "metadata": {},
   "outputs": [],
   "source": [
    "def minsearch_search(query, boost=None):\n",
    "    if boost is None:\n",
    "        boost = {}\n",
    "\n",
    "    results = index.search(\n",
    "        query=query,\n",
    "        filter_dict={},\n",
    "        boost_dict=boost,\n",
    "        num_results=10\n",
    "    )\n",
    "\n",
    "    return results"
   ]
  },
  {
   "cell_type": "code",
   "execution_count": 24,
   "metadata": {},
   "outputs": [],
   "source": [
    "param_ranges = {\n",
    "    'Question_ID': (0.0, 3.0),\n",
    "    'Question': (0.0, 3.0),\n",
    "    'Answer': (0.0, 3.0),\n",
    "}\n",
    "\n",
    "def objective(boost_params):\n",
    "    def search_function(q):\n",
    "        return minsearch_search(q['Question'], boost_params)\n",
    "    \n",
    "    results = evaluate(gt_val, search_function)\n",
    "    return results['mrr']"
   ]
  },
  {
   "cell_type": "code",
   "execution_count": 25,
   "metadata": {},
   "outputs": [
    {
     "data": {
      "application/vnd.jupyter.widget-view+json": {
       "model_id": "e25d32dd76834f78982def2a8f44afb6",
       "version_major": 2,
       "version_minor": 0
      },
      "text/plain": [
       "  0%|          | 0/80 [00:00<?, ?it/s]"
      ]
     },
     "metadata": {},
     "output_type": "display_data"
    },
    {
     "data": {
      "application/vnd.jupyter.widget-view+json": {
       "model_id": "3e3edbc7e4294591b2ff2737e4650da2",
       "version_major": 2,
       "version_minor": 0
      },
      "text/plain": [
       "  0%|          | 0/80 [00:00<?, ?it/s]"
      ]
     },
     "metadata": {},
     "output_type": "display_data"
    },
    {
     "data": {
      "application/vnd.jupyter.widget-view+json": {
       "model_id": "763ca4b9f3484237ab27f52396aeb7dd",
       "version_major": 2,
       "version_minor": 0
      },
      "text/plain": [
       "  0%|          | 0/80 [00:00<?, ?it/s]"
      ]
     },
     "metadata": {},
     "output_type": "display_data"
    },
    {
     "data": {
      "application/vnd.jupyter.widget-view+json": {
       "model_id": "cd9f9104f2cc4ce4ae5adbb8c4c0a35a",
       "version_major": 2,
       "version_minor": 0
      },
      "text/plain": [
       "  0%|          | 0/80 [00:00<?, ?it/s]"
      ]
     },
     "metadata": {},
     "output_type": "display_data"
    },
    {
     "data": {
      "application/vnd.jupyter.widget-view+json": {
       "model_id": "8db7442efe8a4880b5e0e89901ceaeaf",
       "version_major": 2,
       "version_minor": 0
      },
      "text/plain": [
       "  0%|          | 0/80 [00:00<?, ?it/s]"
      ]
     },
     "metadata": {},
     "output_type": "display_data"
    },
    {
     "data": {
      "application/vnd.jupyter.widget-view+json": {
       "model_id": "68f079c09a5042a3b7503a1194df5f61",
       "version_major": 2,
       "version_minor": 0
      },
      "text/plain": [
       "  0%|          | 0/80 [00:00<?, ?it/s]"
      ]
     },
     "metadata": {},
     "output_type": "display_data"
    },
    {
     "data": {
      "application/vnd.jupyter.widget-view+json": {
       "model_id": "c95f12cf88614429a7813eeed6bbc63a",
       "version_major": 2,
       "version_minor": 0
      },
      "text/plain": [
       "  0%|          | 0/80 [00:00<?, ?it/s]"
      ]
     },
     "metadata": {},
     "output_type": "display_data"
    },
    {
     "data": {
      "application/vnd.jupyter.widget-view+json": {
       "model_id": "5feeac55db6d4c919ca61e9aa6cdfd6c",
       "version_major": 2,
       "version_minor": 0
      },
      "text/plain": [
       "  0%|          | 0/80 [00:00<?, ?it/s]"
      ]
     },
     "metadata": {},
     "output_type": "display_data"
    },
    {
     "data": {
      "application/vnd.jupyter.widget-view+json": {
       "model_id": "d3f0643d08ba4b8cb45f890171d92851",
       "version_major": 2,
       "version_minor": 0
      },
      "text/plain": [
       "  0%|          | 0/80 [00:00<?, ?it/s]"
      ]
     },
     "metadata": {},
     "output_type": "display_data"
    },
    {
     "data": {
      "application/vnd.jupyter.widget-view+json": {
       "model_id": "3fbd038afed044ba88360a38ca350130",
       "version_major": 2,
       "version_minor": 0
      },
      "text/plain": [
       "  0%|          | 0/80 [00:00<?, ?it/s]"
      ]
     },
     "metadata": {},
     "output_type": "display_data"
    },
    {
     "data": {
      "application/vnd.jupyter.widget-view+json": {
       "model_id": "65a1a61b6b854d9491916edb955b1ff6",
       "version_major": 2,
       "version_minor": 0
      },
      "text/plain": [
       "  0%|          | 0/80 [00:00<?, ?it/s]"
      ]
     },
     "metadata": {},
     "output_type": "display_data"
    },
    {
     "data": {
      "application/vnd.jupyter.widget-view+json": {
       "model_id": "70ff965e815b46789cb6b84476d0a893",
       "version_major": 2,
       "version_minor": 0
      },
      "text/plain": [
       "  0%|          | 0/80 [00:00<?, ?it/s]"
      ]
     },
     "metadata": {},
     "output_type": "display_data"
    },
    {
     "data": {
      "application/vnd.jupyter.widget-view+json": {
       "model_id": "0751719eb3fe4c5e97b0457cb4ff547b",
       "version_major": 2,
       "version_minor": 0
      },
      "text/plain": [
       "  0%|          | 0/80 [00:00<?, ?it/s]"
      ]
     },
     "metadata": {},
     "output_type": "display_data"
    },
    {
     "data": {
      "application/vnd.jupyter.widget-view+json": {
       "model_id": "0ef022649b6945b8aae35572927a85a1",
       "version_major": 2,
       "version_minor": 0
      },
      "text/plain": [
       "  0%|          | 0/80 [00:00<?, ?it/s]"
      ]
     },
     "metadata": {},
     "output_type": "display_data"
    },
    {
     "data": {
      "application/vnd.jupyter.widget-view+json": {
       "model_id": "2f5be80d29cf41b583754c8c581b4a23",
       "version_major": 2,
       "version_minor": 0
      },
      "text/plain": [
       "  0%|          | 0/80 [00:00<?, ?it/s]"
      ]
     },
     "metadata": {},
     "output_type": "display_data"
    },
    {
     "data": {
      "application/vnd.jupyter.widget-view+json": {
       "model_id": "edd0c29e1ce54a2a9ddba3ce603c1d6b",
       "version_major": 2,
       "version_minor": 0
      },
      "text/plain": [
       "  0%|          | 0/80 [00:00<?, ?it/s]"
      ]
     },
     "metadata": {},
     "output_type": "display_data"
    },
    {
     "data": {
      "application/vnd.jupyter.widget-view+json": {
       "model_id": "e974ba4c30844c03aefd3a590d5265eb",
       "version_major": 2,
       "version_minor": 0
      },
      "text/plain": [
       "  0%|          | 0/80 [00:00<?, ?it/s]"
      ]
     },
     "metadata": {},
     "output_type": "display_data"
    },
    {
     "data": {
      "application/vnd.jupyter.widget-view+json": {
       "model_id": "dcdb8c3945f34b04b0adb6466e4d4343",
       "version_major": 2,
       "version_minor": 0
      },
      "text/plain": [
       "  0%|          | 0/80 [00:00<?, ?it/s]"
      ]
     },
     "metadata": {},
     "output_type": "display_data"
    },
    {
     "data": {
      "application/vnd.jupyter.widget-view+json": {
       "model_id": "98530229b4264cc29995b55131b1cccf",
       "version_major": 2,
       "version_minor": 0
      },
      "text/plain": [
       "  0%|          | 0/80 [00:00<?, ?it/s]"
      ]
     },
     "metadata": {},
     "output_type": "display_data"
    },
    {
     "data": {
      "application/vnd.jupyter.widget-view+json": {
       "model_id": "a341e3d26ecb4317a7482aa9fd12fa6e",
       "version_major": 2,
       "version_minor": 0
      },
      "text/plain": [
       "  0%|          | 0/80 [00:00<?, ?it/s]"
      ]
     },
     "metadata": {},
     "output_type": "display_data"
    },
    {
     "data": {
      "application/vnd.jupyter.widget-view+json": {
       "model_id": "55ce6fe0279645dbbe996eb40efceeb7",
       "version_major": 2,
       "version_minor": 0
      },
      "text/plain": [
       "  0%|          | 0/80 [00:00<?, ?it/s]"
      ]
     },
     "metadata": {},
     "output_type": "display_data"
    },
    {
     "data": {
      "application/vnd.jupyter.widget-view+json": {
       "model_id": "0087f79bfcb64f8a8afecaa588a190e0",
       "version_major": 2,
       "version_minor": 0
      },
      "text/plain": [
       "  0%|          | 0/80 [00:00<?, ?it/s]"
      ]
     },
     "metadata": {},
     "output_type": "display_data"
    },
    {
     "data": {
      "application/vnd.jupyter.widget-view+json": {
       "model_id": "9aa5ad05331b4ec683aee5c5bca687f5",
       "version_major": 2,
       "version_minor": 0
      },
      "text/plain": [
       "  0%|          | 0/80 [00:00<?, ?it/s]"
      ]
     },
     "metadata": {},
     "output_type": "display_data"
    },
    {
     "data": {
      "application/vnd.jupyter.widget-view+json": {
       "model_id": "ccc0d746dd364cdebbd1b2791e36a5b3",
       "version_major": 2,
       "version_minor": 0
      },
      "text/plain": [
       "  0%|          | 0/80 [00:00<?, ?it/s]"
      ]
     },
     "metadata": {},
     "output_type": "display_data"
    },
    {
     "data": {
      "application/vnd.jupyter.widget-view+json": {
       "model_id": "14d0fb2793024a84b38586ac5538adae",
       "version_major": 2,
       "version_minor": 0
      },
      "text/plain": [
       "  0%|          | 0/80 [00:00<?, ?it/s]"
      ]
     },
     "metadata": {},
     "output_type": "display_data"
    },
    {
     "data": {
      "application/vnd.jupyter.widget-view+json": {
       "model_id": "5c9fc40b740c4ee9bd9968c95c7fd33a",
       "version_major": 2,
       "version_minor": 0
      },
      "text/plain": [
       "  0%|          | 0/80 [00:00<?, ?it/s]"
      ]
     },
     "metadata": {},
     "output_type": "display_data"
    },
    {
     "data": {
      "application/vnd.jupyter.widget-view+json": {
       "model_id": "f29e131d943941ed96d462a1999f3c20",
       "version_major": 2,
       "version_minor": 0
      },
      "text/plain": [
       "  0%|          | 0/80 [00:00<?, ?it/s]"
      ]
     },
     "metadata": {},
     "output_type": "display_data"
    },
    {
     "data": {
      "application/vnd.jupyter.widget-view+json": {
       "model_id": "a3208060d153438fba204751bddeedfa",
       "version_major": 2,
       "version_minor": 0
      },
      "text/plain": [
       "  0%|          | 0/80 [00:00<?, ?it/s]"
      ]
     },
     "metadata": {},
     "output_type": "display_data"
    },
    {
     "data": {
      "application/vnd.jupyter.widget-view+json": {
       "model_id": "feafd944c2684152bb1a6493af2ecd1e",
       "version_major": 2,
       "version_minor": 0
      },
      "text/plain": [
       "  0%|          | 0/80 [00:00<?, ?it/s]"
      ]
     },
     "metadata": {},
     "output_type": "display_data"
    },
    {
     "data": {
      "application/vnd.jupyter.widget-view+json": {
       "model_id": "f5ef2da3437041baab760320a14ba277",
       "version_major": 2,
       "version_minor": 0
      },
      "text/plain": [
       "  0%|          | 0/80 [00:00<?, ?it/s]"
      ]
     },
     "metadata": {},
     "output_type": "display_data"
    },
    {
     "data": {
      "application/vnd.jupyter.widget-view+json": {
       "model_id": "179f3e405b1e42bfa0f153bfe5e928f7",
       "version_major": 2,
       "version_minor": 0
      },
      "text/plain": [
       "  0%|          | 0/80 [00:00<?, ?it/s]"
      ]
     },
     "metadata": {},
     "output_type": "display_data"
    },
    {
     "data": {
      "application/vnd.jupyter.widget-view+json": {
       "model_id": "d5f0e4882e7b4f62a5d9e16716b7092d",
       "version_major": 2,
       "version_minor": 0
      },
      "text/plain": [
       "  0%|          | 0/80 [00:00<?, ?it/s]"
      ]
     },
     "metadata": {},
     "output_type": "display_data"
    },
    {
     "data": {
      "application/vnd.jupyter.widget-view+json": {
       "model_id": "f8afb664e8c5458f9d56fbf206413084",
       "version_major": 2,
       "version_minor": 0
      },
      "text/plain": [
       "  0%|          | 0/80 [00:00<?, ?it/s]"
      ]
     },
     "metadata": {},
     "output_type": "display_data"
    },
    {
     "data": {
      "application/vnd.jupyter.widget-view+json": {
       "model_id": "85f6aa341b3841a795bbcd3f91439993",
       "version_major": 2,
       "version_minor": 0
      },
      "text/plain": [
       "  0%|          | 0/80 [00:00<?, ?it/s]"
      ]
     },
     "metadata": {},
     "output_type": "display_data"
    },
    {
     "data": {
      "application/vnd.jupyter.widget-view+json": {
       "model_id": "01012d3ddc3044d1aa1629eb04a3b8ae",
       "version_major": 2,
       "version_minor": 0
      },
      "text/plain": [
       "  0%|          | 0/80 [00:00<?, ?it/s]"
      ]
     },
     "metadata": {},
     "output_type": "display_data"
    },
    {
     "data": {
      "application/vnd.jupyter.widget-view+json": {
       "model_id": "3e5123467d05422289d952bf718e1ade",
       "version_major": 2,
       "version_minor": 0
      },
      "text/plain": [
       "  0%|          | 0/80 [00:00<?, ?it/s]"
      ]
     },
     "metadata": {},
     "output_type": "display_data"
    },
    {
     "data": {
      "application/vnd.jupyter.widget-view+json": {
       "model_id": "03e8f2057217447d8ea9e75c01f22602",
       "version_major": 2,
       "version_minor": 0
      },
      "text/plain": [
       "  0%|          | 0/80 [00:00<?, ?it/s]"
      ]
     },
     "metadata": {},
     "output_type": "display_data"
    },
    {
     "data": {
      "application/vnd.jupyter.widget-view+json": {
       "model_id": "f9c5ae5ba33f413ca15c98d294587960",
       "version_major": 2,
       "version_minor": 0
      },
      "text/plain": [
       "  0%|          | 0/80 [00:00<?, ?it/s]"
      ]
     },
     "metadata": {},
     "output_type": "display_data"
    },
    {
     "data": {
      "application/vnd.jupyter.widget-view+json": {
       "model_id": "11666f5d68db473190cd4642a50772c4",
       "version_major": 2,
       "version_minor": 0
      },
      "text/plain": [
       "  0%|          | 0/80 [00:00<?, ?it/s]"
      ]
     },
     "metadata": {},
     "output_type": "display_data"
    },
    {
     "data": {
      "application/vnd.jupyter.widget-view+json": {
       "model_id": "331e3cc96fb3461cadaffeeecc4e50f8",
       "version_major": 2,
       "version_minor": 0
      },
      "text/plain": [
       "  0%|          | 0/80 [00:00<?, ?it/s]"
      ]
     },
     "metadata": {},
     "output_type": "display_data"
    },
    {
     "data": {
      "application/vnd.jupyter.widget-view+json": {
       "model_id": "d6286092d6234c19aebd1396e8915736",
       "version_major": 2,
       "version_minor": 0
      },
      "text/plain": [
       "  0%|          | 0/80 [00:00<?, ?it/s]"
      ]
     },
     "metadata": {},
     "output_type": "display_data"
    },
    {
     "data": {
      "application/vnd.jupyter.widget-view+json": {
       "model_id": "f2d983ec57014cffa86c8eea3adaaf08",
       "version_major": 2,
       "version_minor": 0
      },
      "text/plain": [
       "  0%|          | 0/80 [00:00<?, ?it/s]"
      ]
     },
     "metadata": {},
     "output_type": "display_data"
    },
    {
     "data": {
      "application/vnd.jupyter.widget-view+json": {
       "model_id": "6c2efc83412d4f53a5c7df417ed8024b",
       "version_major": 2,
       "version_minor": 0
      },
      "text/plain": [
       "  0%|          | 0/80 [00:00<?, ?it/s]"
      ]
     },
     "metadata": {},
     "output_type": "display_data"
    },
    {
     "data": {
      "application/vnd.jupyter.widget-view+json": {
       "model_id": "6fa7be2d18da4b4fac06b4fa145b51ee",
       "version_major": 2,
       "version_minor": 0
      },
      "text/plain": [
       "  0%|          | 0/80 [00:00<?, ?it/s]"
      ]
     },
     "metadata": {},
     "output_type": "display_data"
    },
    {
     "data": {
      "application/vnd.jupyter.widget-view+json": {
       "model_id": "fcf4bff4bd3b48bbbc92c3819e9cb6f7",
       "version_major": 2,
       "version_minor": 0
      },
      "text/plain": [
       "  0%|          | 0/80 [00:00<?, ?it/s]"
      ]
     },
     "metadata": {},
     "output_type": "display_data"
    },
    {
     "data": {
      "application/vnd.jupyter.widget-view+json": {
       "model_id": "7e6f6848bc604a02a3c9ca49508a3933",
       "version_major": 2,
       "version_minor": 0
      },
      "text/plain": [
       "  0%|          | 0/80 [00:00<?, ?it/s]"
      ]
     },
     "metadata": {},
     "output_type": "display_data"
    },
    {
     "data": {
      "application/vnd.jupyter.widget-view+json": {
       "model_id": "04da2902e8d84b15add5690708be57ff",
       "version_major": 2,
       "version_minor": 0
      },
      "text/plain": [
       "  0%|          | 0/80 [00:00<?, ?it/s]"
      ]
     },
     "metadata": {},
     "output_type": "display_data"
    },
    {
     "data": {
      "application/vnd.jupyter.widget-view+json": {
       "model_id": "ae884c2685c243aeaef908d59d770a83",
       "version_major": 2,
       "version_minor": 0
      },
      "text/plain": [
       "  0%|          | 0/80 [00:00<?, ?it/s]"
      ]
     },
     "metadata": {},
     "output_type": "display_data"
    },
    {
     "data": {
      "application/vnd.jupyter.widget-view+json": {
       "model_id": "01e406ea52fc4dd386de7494bea56149",
       "version_major": 2,
       "version_minor": 0
      },
      "text/plain": [
       "  0%|          | 0/80 [00:00<?, ?it/s]"
      ]
     },
     "metadata": {},
     "output_type": "display_data"
    },
    {
     "data": {
      "application/vnd.jupyter.widget-view+json": {
       "model_id": "c9d58ae82ef24348be59c694ffe1e1fe",
       "version_major": 2,
       "version_minor": 0
      },
      "text/plain": [
       "  0%|          | 0/80 [00:00<?, ?it/s]"
      ]
     },
     "metadata": {},
     "output_type": "display_data"
    },
    {
     "data": {
      "text/plain": [
       "({'Question_ID': 0.7714700981665726,\n",
       "  'Question': 1.4131203492177264,\n",
       "  'Answer': 1.4417191893488859},\n",
       " 0.8596)"
      ]
     },
     "execution_count": 25,
     "metadata": {},
     "output_type": "execute_result"
    }
   ],
   "source": [
    "\n",
    "simple_optimize(param_ranges, objective, n_iterations=50)"
   ]
  },
  {
   "cell_type": "code",
   "execution_count": 26,
   "metadata": {},
   "outputs": [
    {
     "data": {
      "application/vnd.jupyter.widget-view+json": {
       "model_id": "c69b1216d7c144069163e9086bbbb238",
       "version_major": 2,
       "version_minor": 0
      },
      "text/plain": [
       "  0%|          | 0/680 [00:00<?, ?it/s]"
      ]
     },
     "metadata": {},
     "output_type": "display_data"
    },
    {
     "data": {
      "text/plain": [
       "{'hit_rate': 0.9838, 'mrr': 0.9256}"
      ]
     },
     "execution_count": 26,
     "metadata": {},
     "output_type": "execute_result"
    }
   ],
   "source": [
    "def minsearch_improved(query):\n",
    "    boost = {\n",
    "        'Question_ID': 0.77,\n",
    "        'Question': 1.41,\n",
    "        'Answer': 1.44\n",
    "    }\n",
    "\n",
    "    results = index.search(\n",
    "        query=query,\n",
    "        filter_dict={},\n",
    "        boost_dict=boost,\n",
    "        num_results=10\n",
    "    )\n",
    "\n",
    "    return results\n",
    "\n",
    "evaluate(ground_truth, lambda q: minsearch_improved(q['Question']))"
   ]
  },
  {
   "cell_type": "markdown",
   "metadata": {},
   "source": [
    "## RAG evaluation"
   ]
  },
  {
   "cell_type": "code",
   "execution_count": 27,
   "metadata": {},
   "outputs": [],
   "source": [
    "prompt_template_rag_evaluation = \"\"\"\n",
    "You are an expert evaluator for a Retrieval-Augmented Generation (RAG) system.\n",
    "Your task is to analyze the relevance of the generated answer to the given question.\n",
    "Based on the relevance of the generated answer, you will classify it\n",
    "as \"NON_RELEVANT\", \"PARTLY_RELEVANT\", or \"RELEVANT\".\n",
    "\n",
    "Here is the data for evaluation:\n",
    "\n",
    "Question: {question}\n",
    "Generated Answer: {answer_llm}\n",
    "\n",
    "Please analyze the content and context of the generated answer in relation to the question\n",
    "and provide your evaluation in parsable JSON without using code blocks:\n",
    "\n",
    "{{\n",
    "  \"Relevance\": \"NON_RELEVANT\" | \"PARTLY_RELEVANT\" | \"RELEVANT\",\n",
    "  \"Explanation\": \"[Provide a brief explanation for your evaluation]\"\n",
    "}}\n",
    "\"\"\".strip()"
   ]
  },
  {
   "cell_type": "code",
   "execution_count": 28,
   "metadata": {},
   "outputs": [
    {
     "data": {
      "text/plain": [
       "680"
      ]
     },
     "execution_count": 28,
     "metadata": {},
     "output_type": "execute_result"
    }
   ],
   "source": [
    "len(ground_truth)"
   ]
  },
  {
   "cell_type": "code",
   "execution_count": 29,
   "metadata": {},
   "outputs": [
    {
     "data": {
      "text/plain": [
       "{'Question_ID': 1,\n",
       " 'Question': 'What are the main distinctions between SEO and SEM in terms of search strategies?'}"
      ]
     },
     "execution_count": 29,
     "metadata": {},
     "output_type": "execute_result"
    }
   ],
   "source": [
    "ground_truth[0]"
   ]
  },
  {
   "cell_type": "code",
   "execution_count": 30,
   "metadata": {},
   "outputs": [],
   "source": [
    "record = ground_truth[0]\n",
    "question = record['Question']\n",
    "answer_llm = rag(question)"
   ]
  },
  {
   "cell_type": "code",
   "execution_count": 31,
   "metadata": {},
   "outputs": [
    {
     "data": {
      "text/plain": [
       "'The main distinctions between SEO and SEM in terms of search strategies are that SEO focuses on organic search results, while SEM includes both organic and paid search results.'"
      ]
     },
     "execution_count": 31,
     "metadata": {},
     "output_type": "execute_result"
    }
   ],
   "source": [
    "answer_llm"
   ]
  },
  {
   "cell_type": "code",
   "execution_count": 32,
   "metadata": {},
   "outputs": [
    {
     "data": {
      "text/plain": [
       "'You are an expert evaluator for a Retrieval-Augmented Generation (RAG) system.\\nYour task is to analyze the relevance of the generated answer to the given question.\\nBased on the relevance of the generated answer, you will classify it\\nas \"NON_RELEVANT\", \"PARTLY_RELEVANT\", or \"RELEVANT\".\\n\\nHere is the data for evaluation:\\n\\nQuestion: What are the main distinctions between SEO and SEM in terms of search strategies?\\nGenerated Answer: The main distinctions between SEO and SEM in terms of search strategies are that SEO focuses on organic search results, while SEM includes both organic and paid search results.\\n\\nPlease analyze the content and context of the generated answer in relation to the question\\nand provide your evaluation in parsable JSON without using code blocks:\\n\\n{\\n  \"Relevance\": \"NON_RELEVANT\" | \"PARTLY_RELEVANT\" | \"RELEVANT\",\\n  \"Explanation\": \"[Provide a brief explanation for your evaluation]\"\\n}'"
      ]
     },
     "execution_count": 32,
     "metadata": {},
     "output_type": "execute_result"
    }
   ],
   "source": [
    "prompt = prompt_template_rag_evaluation.format(question=question, answer_llm=answer_llm)\n",
    "prompt"
   ]
  },
  {
   "cell_type": "code",
   "execution_count": 33,
   "metadata": {},
   "outputs": [
    {
     "name": "stdout",
     "output_type": "stream",
     "text": [
      "You are an expert evaluator for a Retrieval-Augmented Generation (RAG) system.\n",
      "Your task is to analyze the relevance of the generated answer to the given question.\n",
      "Based on the relevance of the generated answer, you will classify it\n",
      "as \"NON_RELEVANT\", \"PARTLY_RELEVANT\", or \"RELEVANT\".\n",
      "\n",
      "Here is the data for evaluation:\n",
      "\n",
      "Question: What are the main distinctions between SEO and SEM in terms of search strategies?\n",
      "Generated Answer: The main distinctions between SEO and SEM in terms of search strategies are that SEO focuses on organic search results, while SEM includes both organic and paid search results.\n",
      "\n",
      "Please analyze the content and context of the generated answer in relation to the question\n",
      "and provide your evaluation in parsable JSON without using code blocks:\n",
      "\n",
      "{\n",
      "  \"Relevance\": \"NON_RELEVANT\" | \"PARTLY_RELEVANT\" | \"RELEVANT\",\n",
      "  \"Explanation\": \"[Provide a brief explanation for your evaluation]\"\n",
      "}\n"
     ]
    }
   ],
   "source": [
    "print(_)"
   ]
  },
  {
   "cell_type": "markdown",
   "metadata": {},
   "source": [
    "#### I Evaluation with gpt-4o-mini"
   ]
  },
  {
   "cell_type": "code",
   "execution_count": 34,
   "metadata": {},
   "outputs": [
    {
     "data": {
      "text/plain": [
       "'{\\n  \"Relevance\": \"RELEVANT\",\\n  \"Explanation\": \"The generated answer accurately describes the main distinctions between SEO and SEM by highlighting that SEO focuses on organic search results while SEM encompasses both organic and paid strategies. This directly addresses the question about search strategies.\"\\n}'"
      ]
     },
     "execution_count": 34,
     "metadata": {},
     "output_type": "execute_result"
    }
   ],
   "source": [
    "llm(prompt)"
   ]
  },
  {
   "cell_type": "code",
   "execution_count": 35,
   "metadata": {},
   "outputs": [],
   "source": [
    "df_sample = df_question.sample(n=100, random_state=1)"
   ]
  },
  {
   "cell_type": "code",
   "execution_count": 36,
   "metadata": {},
   "outputs": [],
   "source": [
    "sample = df_sample.to_dict(orient='records')"
   ]
  },
  {
   "cell_type": "code",
   "execution_count": 37,
   "metadata": {},
   "outputs": [
    {
     "data": {
      "application/vnd.jupyter.widget-view+json": {
       "model_id": "532aadd2441e4057afc7588e5a2003da",
       "version_major": 2,
       "version_minor": 0
      },
      "text/plain": [
       "  0%|          | 0/100 [00:00<?, ?it/s]"
      ]
     },
     "metadata": {},
     "output_type": "display_data"
    }
   ],
   "source": [
    "evaluations = []\n",
    "\n",
    "for record in tqdm(sample):\n",
    "    question = record['Question']\n",
    "    answer_llm = rag(question)\n",
    "\n",
    "    prompt = prompt_template_rag_evaluation.format(question=question, answer_llm=answer_llm)\n",
    "    evaluation = llm(prompt)\n",
    "    evaluation = json.loads(evaluation)\n",
    "    \n",
    "    evaluations.append((record, answer_llm, evaluation))"
   ]
  },
  {
   "cell_type": "code",
   "execution_count": 38,
   "metadata": {},
   "outputs": [],
   "source": [
    "df_eval = pd.DataFrame(evaluations, columns=['record', 'answer_llm', 'evaluation'])"
   ]
  },
  {
   "cell_type": "code",
   "execution_count": 39,
   "metadata": {},
   "outputs": [],
   "source": [
    "df_eval['id']=df_eval.record.apply(lambda x: x['Question_ID'])\n",
    "df_eval['question']=df_eval.record.apply(lambda x: x['Question'])\n",
    "\n",
    "df_eval['relevance']=df_eval.evaluation.apply(lambda x: x['Relevance'])\n",
    "df_eval['explanation']=df_eval.evaluation.apply(lambda x: x['Explanation'])"
   ]
  },
  {
   "cell_type": "code",
   "execution_count": 40,
   "metadata": {},
   "outputs": [],
   "source": [
    "del df_eval['record']\n",
    "del df_eval['evaluation']"
   ]
  },
  {
   "cell_type": "code",
   "execution_count": 41,
   "metadata": {},
   "outputs": [
    {
     "data": {
      "text/html": [
       "<div>\n",
       "<style scoped>\n",
       "    .dataframe tbody tr th:only-of-type {\n",
       "        vertical-align: middle;\n",
       "    }\n",
       "\n",
       "    .dataframe tbody tr th {\n",
       "        vertical-align: top;\n",
       "    }\n",
       "\n",
       "    .dataframe thead th {\n",
       "        text-align: right;\n",
       "    }\n",
       "</style>\n",
       "<table border=\"1\" class=\"dataframe\">\n",
       "  <thead>\n",
       "    <tr style=\"text-align: right;\">\n",
       "      <th></th>\n",
       "      <th>answer_llm</th>\n",
       "      <th>id</th>\n",
       "      <th>question</th>\n",
       "      <th>relevance</th>\n",
       "      <th>explanation</th>\n",
       "    </tr>\n",
       "  </thead>\n",
       "  <tbody>\n",
       "    <tr>\n",
       "      <th>0</th>\n",
       "      <td>The primary functions of a social media manage...</td>\n",
       "      <td>52</td>\n",
       "      <td>What are the primary functions of a social med...</td>\n",
       "      <td>PARTLY_RELEVANT</td>\n",
       "      <td>The generated answer addresses one of the prim...</td>\n",
       "    </tr>\n",
       "    <tr>\n",
       "      <th>1</th>\n",
       "      <td>The key components examined in a technical ana...</td>\n",
       "      <td>5</td>\n",
       "      <td>What are the key components examined in a tech...</td>\n",
       "      <td>RELEVANT</td>\n",
       "      <td>The generated answer directly addresses the qu...</td>\n",
       "    </tr>\n",
       "    <tr>\n",
       "      <th>2</th>\n",
       "      <td>The context provided does not specify the type...</td>\n",
       "      <td>38</td>\n",
       "      <td>What types of marketing variables are typicall...</td>\n",
       "      <td>PARTLY_RELEVANT</td>\n",
       "      <td>The generated answer acknowledges the marketin...</td>\n",
       "    </tr>\n",
       "    <tr>\n",
       "      <th>3</th>\n",
       "      <td>A heatmap visually represents user activity on...</td>\n",
       "      <td>10</td>\n",
       "      <td>How does a heatmap visually represent the area...</td>\n",
       "      <td>PARTLY_RELEVANT</td>\n",
       "      <td>The generated answer provides some information...</td>\n",
       "    </tr>\n",
       "    <tr>\n",
       "      <th>4</th>\n",
       "      <td>You can analyze the performance of your email ...</td>\n",
       "      <td>59</td>\n",
       "      <td>In what ways can I analyze the performance of ...</td>\n",
       "      <td>PARTLY_RELEVANT</td>\n",
       "      <td>The generated answer addresses the question by...</td>\n",
       "    </tr>\n",
       "    <tr>\n",
       "      <th>...</th>\n",
       "      <td>...</td>\n",
       "      <td>...</td>\n",
       "      <td>...</td>\n",
       "      <td>...</td>\n",
       "      <td>...</td>\n",
       "    </tr>\n",
       "    <tr>\n",
       "      <th>95</th>\n",
       "      <td>While the provided context does not explicitly...</td>\n",
       "      <td>28</td>\n",
       "      <td>Why is it important to have a clearly defined ...</td>\n",
       "      <td>RELEVANT</td>\n",
       "      <td>The generated answer addresses the question by...</td>\n",
       "    </tr>\n",
       "    <tr>\n",
       "      <th>96</th>\n",
       "      <td>A marketing operations consultant provides exp...</td>\n",
       "      <td>115</td>\n",
       "      <td>What role does a marketing operations consulta...</td>\n",
       "      <td>PARTLY_RELEVANT</td>\n",
       "      <td>The generated answer identifies that a marketi...</td>\n",
       "    </tr>\n",
       "    <tr>\n",
       "      <th>97</th>\n",
       "      <td>A business can utilize a customer journey map ...</td>\n",
       "      <td>14</td>\n",
       "      <td>In what ways can a business utilize a customer...</td>\n",
       "      <td>RELEVANT</td>\n",
       "      <td>The generated answer effectively addresses the...</td>\n",
       "    </tr>\n",
       "    <tr>\n",
       "      <th>98</th>\n",
       "      <td>In a marketing operations industry report, you...</td>\n",
       "      <td>136</td>\n",
       "      <td>What type of insights can I expect to find in ...</td>\n",
       "      <td>RELEVANT</td>\n",
       "      <td>The generated answer directly addresses the qu...</td>\n",
       "    </tr>\n",
       "    <tr>\n",
       "      <th>99</th>\n",
       "      <td>The provided context does not contain specific...</td>\n",
       "      <td>128</td>\n",
       "      <td>Where can I find more information on marketing...</td>\n",
       "      <td>PARTLY_RELEVANT</td>\n",
       "      <td>While the generated answer acknowledges that i...</td>\n",
       "    </tr>\n",
       "  </tbody>\n",
       "</table>\n",
       "<p>100 rows × 5 columns</p>\n",
       "</div>"
      ],
      "text/plain": [
       "                                           answer_llm   id  \\\n",
       "0   The primary functions of a social media manage...   52   \n",
       "1   The key components examined in a technical ana...    5   \n",
       "2   The context provided does not specify the type...   38   \n",
       "3   A heatmap visually represents user activity on...   10   \n",
       "4   You can analyze the performance of your email ...   59   \n",
       "..                                                ...  ...   \n",
       "95  While the provided context does not explicitly...   28   \n",
       "96  A marketing operations consultant provides exp...  115   \n",
       "97  A business can utilize a customer journey map ...   14   \n",
       "98  In a marketing operations industry report, you...  136   \n",
       "99  The provided context does not contain specific...  128   \n",
       "\n",
       "                                             question        relevance  \\\n",
       "0   What are the primary functions of a social med...  PARTLY_RELEVANT   \n",
       "1   What are the key components examined in a tech...         RELEVANT   \n",
       "2   What types of marketing variables are typicall...  PARTLY_RELEVANT   \n",
       "3   How does a heatmap visually represent the area...  PARTLY_RELEVANT   \n",
       "4   In what ways can I analyze the performance of ...  PARTLY_RELEVANT   \n",
       "..                                                ...              ...   \n",
       "95  Why is it important to have a clearly defined ...         RELEVANT   \n",
       "96  What role does a marketing operations consulta...  PARTLY_RELEVANT   \n",
       "97  In what ways can a business utilize a customer...         RELEVANT   \n",
       "98  What type of insights can I expect to find in ...         RELEVANT   \n",
       "99  Where can I find more information on marketing...  PARTLY_RELEVANT   \n",
       "\n",
       "                                          explanation  \n",
       "0   The generated answer addresses one of the prim...  \n",
       "1   The generated answer directly addresses the qu...  \n",
       "2   The generated answer acknowledges the marketin...  \n",
       "3   The generated answer provides some information...  \n",
       "4   The generated answer addresses the question by...  \n",
       "..                                                ...  \n",
       "95  The generated answer addresses the question by...  \n",
       "96  The generated answer identifies that a marketi...  \n",
       "97  The generated answer effectively addresses the...  \n",
       "98  The generated answer directly addresses the qu...  \n",
       "99  While the generated answer acknowledges that i...  \n",
       "\n",
       "[100 rows x 5 columns]"
      ]
     },
     "execution_count": 41,
     "metadata": {},
     "output_type": "execute_result"
    }
   ],
   "source": [
    "df_eval"
   ]
  },
  {
   "cell_type": "code",
   "execution_count": 42,
   "metadata": {},
   "outputs": [
    {
     "data": {
      "text/plain": [
       "relevance\n",
       "RELEVANT           58\n",
       "PARTLY_RELEVANT    25\n",
       "NON_RELEVANT       17\n",
       "Name: count, dtype: int64"
      ]
     },
     "execution_count": 42,
     "metadata": {},
     "output_type": "execute_result"
    }
   ],
   "source": [
    "\n",
    "df_eval.relevance.value_counts()"
   ]
  },
  {
   "cell_type": "code",
   "execution_count": 43,
   "metadata": {},
   "outputs": [
    {
     "data": {
      "text/plain": [
       "relevance\n",
       "RELEVANT           0.58\n",
       "PARTLY_RELEVANT    0.25\n",
       "NON_RELEVANT       0.17\n",
       "Name: proportion, dtype: float64"
      ]
     },
     "execution_count": 43,
     "metadata": {},
     "output_type": "execute_result"
    }
   ],
   "source": [
    "df_eval.relevance.value_counts(normalize=True)"
   ]
  },
  {
   "cell_type": "code",
   "execution_count": 44,
   "metadata": {},
   "outputs": [],
   "source": [
    "df_eval.to_csv('../data/rag-eval-gpt-4o-mini.csv', index=False)"
   ]
  },
  {
   "cell_type": "code",
   "execution_count": 45,
   "metadata": {},
   "outputs": [
    {
     "data": {
      "text/html": [
       "<div>\n",
       "<style scoped>\n",
       "    .dataframe tbody tr th:only-of-type {\n",
       "        vertical-align: middle;\n",
       "    }\n",
       "\n",
       "    .dataframe tbody tr th {\n",
       "        vertical-align: top;\n",
       "    }\n",
       "\n",
       "    .dataframe thead th {\n",
       "        text-align: right;\n",
       "    }\n",
       "</style>\n",
       "<table border=\"1\" class=\"dataframe\">\n",
       "  <thead>\n",
       "    <tr style=\"text-align: right;\">\n",
       "      <th></th>\n",
       "      <th>answer_llm</th>\n",
       "      <th>id</th>\n",
       "      <th>question</th>\n",
       "      <th>relevance</th>\n",
       "      <th>explanation</th>\n",
       "    </tr>\n",
       "  </thead>\n",
       "  <tbody>\n",
       "    <tr>\n",
       "      <th>5</th>\n",
       "      <td>The provided context does not specify the topi...</td>\n",
       "      <td>118</td>\n",
       "      <td>What topics are covered in the marketing opera...</td>\n",
       "      <td>NON_RELEVANT</td>\n",
       "      <td>The generated answer does not address the ques...</td>\n",
       "    </tr>\n",
       "    <tr>\n",
       "      <th>8</th>\n",
       "      <td>The context provided does not include specific...</td>\n",
       "      <td>124</td>\n",
       "      <td>What skills are important for a successful mar...</td>\n",
       "      <td>NON_RELEVANT</td>\n",
       "      <td>The generated answer explicitly states that it...</td>\n",
       "    </tr>\n",
       "    <tr>\n",
       "      <th>9</th>\n",
       "      <td>The context provided does not contain specific...</td>\n",
       "      <td>109</td>\n",
       "      <td>What are the advantages of using outbound mark...</td>\n",
       "      <td>NON_RELEVANT</td>\n",
       "      <td>The generated answer explicitly states that it...</td>\n",
       "    </tr>\n",
       "    <tr>\n",
       "      <th>10</th>\n",
       "      <td>The provided context does not contain specific...</td>\n",
       "      <td>93</td>\n",
       "      <td>Can you explain how social media marketing dif...</td>\n",
       "      <td>NON_RELEVANT</td>\n",
       "      <td>The generated answer does not address the ques...</td>\n",
       "    </tr>\n",
       "    <tr>\n",
       "      <th>20</th>\n",
       "      <td>The provided context does not specify typical ...</td>\n",
       "      <td>89</td>\n",
       "      <td>What are the typical reasons for performing a ...</td>\n",
       "      <td>NON_RELEVANT</td>\n",
       "      <td>The generated answer does not address the ques...</td>\n",
       "    </tr>\n",
       "    <tr>\n",
       "      <th>21</th>\n",
       "      <td>The provided context does not specify the skil...</td>\n",
       "      <td>114</td>\n",
       "      <td>What skills are typically required for someone...</td>\n",
       "      <td>NON_RELEVANT</td>\n",
       "      <td>The generated answer does not address the ques...</td>\n",
       "    </tr>\n",
       "    <tr>\n",
       "      <th>27</th>\n",
       "      <td>The provided context does not include specific...</td>\n",
       "      <td>12</td>\n",
       "      <td>Are there any examples of successful value pro...</td>\n",
       "      <td>NON_RELEVANT</td>\n",
       "      <td>The generated answer fails to provide any exam...</td>\n",
       "    </tr>\n",
       "    <tr>\n",
       "      <th>30</th>\n",
       "      <td>I'm sorry, but the provided context does not c...</td>\n",
       "      <td>4</td>\n",
       "      <td>How can I check the backlinks pointing to my w...</td>\n",
       "      <td>NON_RELEVANT</td>\n",
       "      <td>The generated answer does not provide any usef...</td>\n",
       "    </tr>\n",
       "    <tr>\n",
       "      <th>35</th>\n",
       "      <td>The context provided does not specifically out...</td>\n",
       "      <td>12</td>\n",
       "      <td>What are the key components that make up a str...</td>\n",
       "      <td>NON_RELEVANT</td>\n",
       "      <td>The generated answer does not address the spec...</td>\n",
       "    </tr>\n",
       "    <tr>\n",
       "      <th>39</th>\n",
       "      <td>The provided context does not include specific...</td>\n",
       "      <td>79</td>\n",
       "      <td>Are there best practices for placement of a ca...</td>\n",
       "      <td>NON_RELEVANT</td>\n",
       "      <td>The generated answer does not address the ques...</td>\n",
       "    </tr>\n",
       "    <tr>\n",
       "      <th>53</th>\n",
       "      <td>The provided context does not contain specific...</td>\n",
       "      <td>123</td>\n",
       "      <td>What factors influence the marketing operation...</td>\n",
       "      <td>NON_RELEVANT</td>\n",
       "      <td>The generated answer states that there is no i...</td>\n",
       "    </tr>\n",
       "    <tr>\n",
       "      <th>54</th>\n",
       "      <td>The provided context does not contain specific...</td>\n",
       "      <td>32</td>\n",
       "      <td>In what ways do marketing consultants differ f...</td>\n",
       "      <td>NON_RELEVANT</td>\n",
       "      <td>The generated answer does not address the ques...</td>\n",
       "    </tr>\n",
       "    <tr>\n",
       "      <th>64</th>\n",
       "      <td>The provided context does not contain informat...</td>\n",
       "      <td>135</td>\n",
       "      <td>How frequently are marketing operations salary...</td>\n",
       "      <td>NON_RELEVANT</td>\n",
       "      <td>The generated answer states that the provided ...</td>\n",
       "    </tr>\n",
       "    <tr>\n",
       "      <th>65</th>\n",
       "      <td>The provided context does not explicitly list ...</td>\n",
       "      <td>76</td>\n",
       "      <td>What are the common indicators of poor website...</td>\n",
       "      <td>NON_RELEVANT</td>\n",
       "      <td>The generated answer does not address the ques...</td>\n",
       "    </tr>\n",
       "    <tr>\n",
       "      <th>66</th>\n",
       "      <td>The context provided does not directly outline...</td>\n",
       "      <td>134</td>\n",
       "      <td>What are the key responsibilities associated w...</td>\n",
       "      <td>NON_RELEVANT</td>\n",
       "      <td>The generated answer does not address the ques...</td>\n",
       "    </tr>\n",
       "    <tr>\n",
       "      <th>70</th>\n",
       "      <td>The provided context does not specify any fact...</td>\n",
       "      <td>3</td>\n",
       "      <td>What factors influence the ideal keyword densi...</td>\n",
       "      <td>NON_RELEVANT</td>\n",
       "      <td>The generated answer does not address the ques...</td>\n",
       "    </tr>\n",
       "    <tr>\n",
       "      <th>79</th>\n",
       "      <td>The provided context does not specify differen...</td>\n",
       "      <td>71</td>\n",
       "      <td>Are there different types of website hosting p...</td>\n",
       "      <td>NON_RELEVANT</td>\n",
       "      <td>The generated answer fails to address the ques...</td>\n",
       "    </tr>\n",
       "  </tbody>\n",
       "</table>\n",
       "</div>"
      ],
      "text/plain": [
       "                                           answer_llm   id  \\\n",
       "5   The provided context does not specify the topi...  118   \n",
       "8   The context provided does not include specific...  124   \n",
       "9   The context provided does not contain specific...  109   \n",
       "10  The provided context does not contain specific...   93   \n",
       "20  The provided context does not specify typical ...   89   \n",
       "21  The provided context does not specify the skil...  114   \n",
       "27  The provided context does not include specific...   12   \n",
       "30  I'm sorry, but the provided context does not c...    4   \n",
       "35  The context provided does not specifically out...   12   \n",
       "39  The provided context does not include specific...   79   \n",
       "53  The provided context does not contain specific...  123   \n",
       "54  The provided context does not contain specific...   32   \n",
       "64  The provided context does not contain informat...  135   \n",
       "65  The provided context does not explicitly list ...   76   \n",
       "66  The context provided does not directly outline...  134   \n",
       "70  The provided context does not specify any fact...    3   \n",
       "79  The provided context does not specify differen...   71   \n",
       "\n",
       "                                             question     relevance  \\\n",
       "5   What topics are covered in the marketing opera...  NON_RELEVANT   \n",
       "8   What skills are important for a successful mar...  NON_RELEVANT   \n",
       "9   What are the advantages of using outbound mark...  NON_RELEVANT   \n",
       "10  Can you explain how social media marketing dif...  NON_RELEVANT   \n",
       "20  What are the typical reasons for performing a ...  NON_RELEVANT   \n",
       "21  What skills are typically required for someone...  NON_RELEVANT   \n",
       "27  Are there any examples of successful value pro...  NON_RELEVANT   \n",
       "30  How can I check the backlinks pointing to my w...  NON_RELEVANT   \n",
       "35  What are the key components that make up a str...  NON_RELEVANT   \n",
       "39  Are there best practices for placement of a ca...  NON_RELEVANT   \n",
       "53  What factors influence the marketing operation...  NON_RELEVANT   \n",
       "54  In what ways do marketing consultants differ f...  NON_RELEVANT   \n",
       "64  How frequently are marketing operations salary...  NON_RELEVANT   \n",
       "65  What are the common indicators of poor website...  NON_RELEVANT   \n",
       "66  What are the key responsibilities associated w...  NON_RELEVANT   \n",
       "70  What factors influence the ideal keyword densi...  NON_RELEVANT   \n",
       "79  Are there different types of website hosting p...  NON_RELEVANT   \n",
       "\n",
       "                                          explanation  \n",
       "5   The generated answer does not address the ques...  \n",
       "8   The generated answer explicitly states that it...  \n",
       "9   The generated answer explicitly states that it...  \n",
       "10  The generated answer does not address the ques...  \n",
       "20  The generated answer does not address the ques...  \n",
       "21  The generated answer does not address the ques...  \n",
       "27  The generated answer fails to provide any exam...  \n",
       "30  The generated answer does not provide any usef...  \n",
       "35  The generated answer does not address the spec...  \n",
       "39  The generated answer does not address the ques...  \n",
       "53  The generated answer states that there is no i...  \n",
       "54  The generated answer does not address the ques...  \n",
       "64  The generated answer states that the provided ...  \n",
       "65  The generated answer does not address the ques...  \n",
       "66  The generated answer does not address the ques...  \n",
       "70  The generated answer does not address the ques...  \n",
       "79  The generated answer fails to address the ques...  "
      ]
     },
     "execution_count": 45,
     "metadata": {},
     "output_type": "execute_result"
    }
   ],
   "source": [
    "df_eval[df_eval.relevance == 'NON_RELEVANT']"
   ]
  },
  {
   "cell_type": "markdown",
   "metadata": {},
   "source": [
    "#### II Evaluation with gpt-4o"
   ]
  },
  {
   "cell_type": "code",
   "execution_count": 46,
   "metadata": {},
   "outputs": [
    {
     "data": {
      "application/vnd.jupyter.widget-view+json": {
       "model_id": "0c79ee4a7f7e40d8ac7736658ea53dec",
       "version_major": 2,
       "version_minor": 0
      },
      "text/plain": [
       "  0%|          | 0/100 [00:00<?, ?it/s]"
      ]
     },
     "metadata": {},
     "output_type": "display_data"
    }
   ],
   "source": [
    "evaluations_gpt4o = []\n",
    "\n",
    "for record in tqdm(sample):\n",
    "    question = record['Question']\n",
    "    answer_llm = rag(question, model='gpt-4o')\n",
    "\n",
    "    prompt = prompt_template_rag_evaluation.format(question=question, answer_llm=answer_llm)\n",
    "    evaluation = llm(prompt)\n",
    "    evaluation = json.loads(evaluation)\n",
    "    \n",
    "    evaluations_gpt4o.append((record, answer_llm, evaluation))"
   ]
  },
  {
   "cell_type": "code",
   "execution_count": 47,
   "metadata": {},
   "outputs": [],
   "source": [
    "\n",
    "df_eval_2 = pd.DataFrame(evaluations_gpt4o, columns=['record', 'answer_llm', 'evaluation'])\n",
    "\n",
    "df_eval_2['id']=df_eval_2.record.apply(lambda x: x['Question_ID'])\n",
    "df_eval_2['question']=df_eval_2.record.apply(lambda x: x['Question'])\n",
    "\n",
    "df_eval_2['relevance']=df_eval_2.evaluation.apply(lambda x: x['Relevance'])\n",
    "df_eval_2['explanation']=df_eval_2.evaluation.apply(lambda x: x['Explanation'])"
   ]
  },
  {
   "cell_type": "code",
   "execution_count": 48,
   "metadata": {},
   "outputs": [],
   "source": [
    "del df_eval_2['record']\n",
    "del df_eval_2['evaluation']"
   ]
  },
  {
   "cell_type": "code",
   "execution_count": 49,
   "metadata": {},
   "outputs": [
    {
     "data": {
      "text/html": [
       "<div>\n",
       "<style scoped>\n",
       "    .dataframe tbody tr th:only-of-type {\n",
       "        vertical-align: middle;\n",
       "    }\n",
       "\n",
       "    .dataframe tbody tr th {\n",
       "        vertical-align: top;\n",
       "    }\n",
       "\n",
       "    .dataframe thead th {\n",
       "        text-align: right;\n",
       "    }\n",
       "</style>\n",
       "<table border=\"1\" class=\"dataframe\">\n",
       "  <thead>\n",
       "    <tr style=\"text-align: right;\">\n",
       "      <th></th>\n",
       "      <th>answer_llm</th>\n",
       "      <th>id</th>\n",
       "      <th>question</th>\n",
       "      <th>relevance</th>\n",
       "      <th>explanation</th>\n",
       "    </tr>\n",
       "  </thead>\n",
       "  <tbody>\n",
       "    <tr>\n",
       "      <th>0</th>\n",
       "      <td>The primary functions of a social media manage...</td>\n",
       "      <td>52</td>\n",
       "      <td>What are the primary functions of a social med...</td>\n",
       "      <td>PARTLY_RELEVANT</td>\n",
       "      <td>The generated answer addresses one key functio...</td>\n",
       "    </tr>\n",
       "    <tr>\n",
       "      <th>1</th>\n",
       "      <td>A technical analysis during a website audit ex...</td>\n",
       "      <td>5</td>\n",
       "      <td>What are the key components examined in a tech...</td>\n",
       "      <td>RELEVANT</td>\n",
       "      <td>The generated answer directly addresses the ke...</td>\n",
       "    </tr>\n",
       "    <tr>\n",
       "      <th>2</th>\n",
       "      <td>The CONTEXT does not provide specific informat...</td>\n",
       "      <td>38</td>\n",
       "      <td>What types of marketing variables are typicall...</td>\n",
       "      <td>NON_RELEVANT</td>\n",
       "      <td>The generated answer fails to address the spec...</td>\n",
       "    </tr>\n",
       "    <tr>\n",
       "      <th>3</th>\n",
       "      <td>A heatmap visually represents the areas of a w...</td>\n",
       "      <td>10</td>\n",
       "      <td>How does a heatmap visually represent the area...</td>\n",
       "      <td>RELEVANT</td>\n",
       "      <td>The generated answer accurately describes how ...</td>\n",
       "    </tr>\n",
       "    <tr>\n",
       "      <th>4</th>\n",
       "      <td>You can analyze the performance of your email ...</td>\n",
       "      <td>59</td>\n",
       "      <td>In what ways can I analyze the performance of ...</td>\n",
       "      <td>PARTLY_RELEVANT</td>\n",
       "      <td>The generated answer mentions email marketing ...</td>\n",
       "    </tr>\n",
       "    <tr>\n",
       "      <th>...</th>\n",
       "      <td>...</td>\n",
       "      <td>...</td>\n",
       "      <td>...</td>\n",
       "      <td>...</td>\n",
       "      <td>...</td>\n",
       "    </tr>\n",
       "    <tr>\n",
       "      <th>95</th>\n",
       "      <td>The provided context does not directly answer ...</td>\n",
       "      <td>28</td>\n",
       "      <td>Why is it important to have a clearly defined ...</td>\n",
       "      <td>NON_RELEVANT</td>\n",
       "      <td>The generated answer does not address the ques...</td>\n",
       "    </tr>\n",
       "    <tr>\n",
       "      <th>96</th>\n",
       "      <td>A marketing operations consultant plays a role...</td>\n",
       "      <td>115</td>\n",
       "      <td>What role does a marketing operations consulta...</td>\n",
       "      <td>PARTLY_RELEVANT</td>\n",
       "      <td>The generated answer addresses the question by...</td>\n",
       "    </tr>\n",
       "    <tr>\n",
       "      <th>97</th>\n",
       "      <td>A business can utilize a customer journey map ...</td>\n",
       "      <td>14</td>\n",
       "      <td>In what ways can a business utilize a customer...</td>\n",
       "      <td>RELEVANT</td>\n",
       "      <td>The generated answer directly addresses the qu...</td>\n",
       "    </tr>\n",
       "    <tr>\n",
       "      <th>98</th>\n",
       "      <td>You can expect to find insights into the trend...</td>\n",
       "      <td>136</td>\n",
       "      <td>What type of insights can I expect to find in ...</td>\n",
       "      <td>RELEVANT</td>\n",
       "      <td>The generated answer directly addresses the qu...</td>\n",
       "    </tr>\n",
       "    <tr>\n",
       "      <th>99</th>\n",
       "      <td>Based on the available information, I can't pr...</td>\n",
       "      <td>128</td>\n",
       "      <td>Where can I find more information on marketing...</td>\n",
       "      <td>PARTLY_RELEVANT</td>\n",
       "      <td>The generated answer offers some relevant sugg...</td>\n",
       "    </tr>\n",
       "  </tbody>\n",
       "</table>\n",
       "<p>100 rows × 5 columns</p>\n",
       "</div>"
      ],
      "text/plain": [
       "                                           answer_llm   id  \\\n",
       "0   The primary functions of a social media manage...   52   \n",
       "1   A technical analysis during a website audit ex...    5   \n",
       "2   The CONTEXT does not provide specific informat...   38   \n",
       "3   A heatmap visually represents the areas of a w...   10   \n",
       "4   You can analyze the performance of your email ...   59   \n",
       "..                                                ...  ...   \n",
       "95  The provided context does not directly answer ...   28   \n",
       "96  A marketing operations consultant plays a role...  115   \n",
       "97  A business can utilize a customer journey map ...   14   \n",
       "98  You can expect to find insights into the trend...  136   \n",
       "99  Based on the available information, I can't pr...  128   \n",
       "\n",
       "                                             question        relevance  \\\n",
       "0   What are the primary functions of a social med...  PARTLY_RELEVANT   \n",
       "1   What are the key components examined in a tech...         RELEVANT   \n",
       "2   What types of marketing variables are typicall...     NON_RELEVANT   \n",
       "3   How does a heatmap visually represent the area...         RELEVANT   \n",
       "4   In what ways can I analyze the performance of ...  PARTLY_RELEVANT   \n",
       "..                                                ...              ...   \n",
       "95  Why is it important to have a clearly defined ...     NON_RELEVANT   \n",
       "96  What role does a marketing operations consulta...  PARTLY_RELEVANT   \n",
       "97  In what ways can a business utilize a customer...         RELEVANT   \n",
       "98  What type of insights can I expect to find in ...         RELEVANT   \n",
       "99  Where can I find more information on marketing...  PARTLY_RELEVANT   \n",
       "\n",
       "                                          explanation  \n",
       "0   The generated answer addresses one key functio...  \n",
       "1   The generated answer directly addresses the ke...  \n",
       "2   The generated answer fails to address the spec...  \n",
       "3   The generated answer accurately describes how ...  \n",
       "4   The generated answer mentions email marketing ...  \n",
       "..                                                ...  \n",
       "95  The generated answer does not address the ques...  \n",
       "96  The generated answer addresses the question by...  \n",
       "97  The generated answer directly addresses the qu...  \n",
       "98  The generated answer directly addresses the qu...  \n",
       "99  The generated answer offers some relevant sugg...  \n",
       "\n",
       "[100 rows x 5 columns]"
      ]
     },
     "execution_count": 49,
     "metadata": {},
     "output_type": "execute_result"
    }
   ],
   "source": [
    "df_eval_2"
   ]
  },
  {
   "cell_type": "code",
   "execution_count": 50,
   "metadata": {},
   "outputs": [
    {
     "data": {
      "text/plain": [
       "relevance\n",
       "RELEVANT           49\n",
       "PARTLY_RELEVANT    30\n",
       "NON_RELEVANT       21\n",
       "Name: count, dtype: int64"
      ]
     },
     "execution_count": 50,
     "metadata": {},
     "output_type": "execute_result"
    }
   ],
   "source": [
    "df_eval_2.relevance.value_counts()"
   ]
  },
  {
   "cell_type": "code",
   "execution_count": 51,
   "metadata": {},
   "outputs": [
    {
     "data": {
      "text/plain": [
       "relevance\n",
       "RELEVANT           0.49\n",
       "PARTLY_RELEVANT    0.30\n",
       "NON_RELEVANT       0.21\n",
       "Name: proportion, dtype: float64"
      ]
     },
     "execution_count": 51,
     "metadata": {},
     "output_type": "execute_result"
    }
   ],
   "source": [
    "df_eval_2.relevance.value_counts(normalize=True)"
   ]
  },
  {
   "cell_type": "code",
   "execution_count": 52,
   "metadata": {},
   "outputs": [],
   "source": [
    "df_eval_2.to_csv('../data/rag-eval-gpt-4o.csv', index=False)"
   ]
  },
  {
   "cell_type": "code",
   "execution_count": 53,
   "metadata": {},
   "outputs": [
    {
     "data": {
      "text/html": [
       "<div>\n",
       "<style scoped>\n",
       "    .dataframe tbody tr th:only-of-type {\n",
       "        vertical-align: middle;\n",
       "    }\n",
       "\n",
       "    .dataframe tbody tr th {\n",
       "        vertical-align: top;\n",
       "    }\n",
       "\n",
       "    .dataframe thead th {\n",
       "        text-align: right;\n",
       "    }\n",
       "</style>\n",
       "<table border=\"1\" class=\"dataframe\">\n",
       "  <thead>\n",
       "    <tr style=\"text-align: right;\">\n",
       "      <th></th>\n",
       "      <th>answer_llm</th>\n",
       "      <th>id</th>\n",
       "      <th>question</th>\n",
       "      <th>relevance</th>\n",
       "      <th>explanation</th>\n",
       "    </tr>\n",
       "  </thead>\n",
       "  <tbody>\n",
       "    <tr>\n",
       "      <th>2</th>\n",
       "      <td>The CONTEXT does not provide specific informat...</td>\n",
       "      <td>38</td>\n",
       "      <td>What types of marketing variables are typicall...</td>\n",
       "      <td>NON_RELEVANT</td>\n",
       "      <td>The generated answer fails to address the spec...</td>\n",
       "    </tr>\n",
       "    <tr>\n",
       "      <th>5</th>\n",
       "      <td>The CONTEXT does not provide specific details ...</td>\n",
       "      <td>118</td>\n",
       "      <td>What topics are covered in the marketing opera...</td>\n",
       "      <td>NON_RELEVANT</td>\n",
       "      <td>The generated answer fails to address the ques...</td>\n",
       "    </tr>\n",
       "    <tr>\n",
       "      <th>7</th>\n",
       "      <td>The provided CONTEXT does not include specific...</td>\n",
       "      <td>91</td>\n",
       "      <td>What information is typically included in a we...</td>\n",
       "      <td>NON_RELEVANT</td>\n",
       "      <td>The generated answer does not address the ques...</td>\n",
       "    </tr>\n",
       "    <tr>\n",
       "      <th>8</th>\n",
       "      <td>The CONTEXT does not provide specific details ...</td>\n",
       "      <td>124</td>\n",
       "      <td>What skills are important for a successful mar...</td>\n",
       "      <td>NON_RELEVANT</td>\n",
       "      <td>The generated answer fails to address the ques...</td>\n",
       "    </tr>\n",
       "    <tr>\n",
       "      <th>9</th>\n",
       "      <td>The provided context doesn't explicitly detail...</td>\n",
       "      <td>109</td>\n",
       "      <td>What are the advantages of using outbound mark...</td>\n",
       "      <td>NON_RELEVANT</td>\n",
       "      <td>The generated answer does not address the ques...</td>\n",
       "    </tr>\n",
       "    <tr>\n",
       "      <th>21</th>\n",
       "      <td>The CONTEXT does not provide specific informat...</td>\n",
       "      <td>114</td>\n",
       "      <td>What skills are typically required for someone...</td>\n",
       "      <td>NON_RELEVANT</td>\n",
       "      <td>The generated answer does not address the ques...</td>\n",
       "    </tr>\n",
       "    <tr>\n",
       "      <th>22</th>\n",
       "      <td>Unfortunately, the provided context does not i...</td>\n",
       "      <td>130</td>\n",
       "      <td>How can I participate in a marketing operation...</td>\n",
       "      <td>NON_RELEVANT</td>\n",
       "      <td>The generated answer does not provide any info...</td>\n",
       "    </tr>\n",
       "    <tr>\n",
       "      <th>26</th>\n",
       "      <td>The CONTEXT does not provide specific types of...</td>\n",
       "      <td>108</td>\n",
       "      <td>What types of content are typically used in in...</td>\n",
       "      <td>NON_RELEVANT</td>\n",
       "      <td>The generated answer does not address the ques...</td>\n",
       "    </tr>\n",
       "    <tr>\n",
       "      <th>27</th>\n",
       "      <td>Based on the context provided, there are no sp...</td>\n",
       "      <td>12</td>\n",
       "      <td>Are there any examples of successful value pro...</td>\n",
       "      <td>NON_RELEVANT</td>\n",
       "      <td>The generated answer does not provide any exam...</td>\n",
       "    </tr>\n",
       "    <tr>\n",
       "      <th>30</th>\n",
       "      <td>The context provided does not contain informat...</td>\n",
       "      <td>4</td>\n",
       "      <td>How can I check the backlinks pointing to my w...</td>\n",
       "      <td>NON_RELEVANT</td>\n",
       "      <td>The generated answer states that it does not c...</td>\n",
       "    </tr>\n",
       "    <tr>\n",
       "      <th>39</th>\n",
       "      <td>The CONTEXT provided does not specifically add...</td>\n",
       "      <td>79</td>\n",
       "      <td>Are there best practices for placement of a ca...</td>\n",
       "      <td>NON_RELEVANT</td>\n",
       "      <td>The generated answer states that the provided ...</td>\n",
       "    </tr>\n",
       "    <tr>\n",
       "      <th>44</th>\n",
       "      <td>The provided context does not contain informat...</td>\n",
       "      <td>101</td>\n",
       "      <td>How does a mobile app function on a smartphone...</td>\n",
       "      <td>NON_RELEVANT</td>\n",
       "      <td>The generated answer fails to address the ques...</td>\n",
       "    </tr>\n",
       "    <tr>\n",
       "      <th>49</th>\n",
       "      <td>The provided CONTEXT does not include specific...</td>\n",
       "      <td>125</td>\n",
       "      <td>What should I look for when selecting a market...</td>\n",
       "      <td>NON_RELEVANT</td>\n",
       "      <td>The generated answer does not provide any info...</td>\n",
       "    </tr>\n",
       "    <tr>\n",
       "      <th>53</th>\n",
       "      <td>The CONTEXT provided does not include specific...</td>\n",
       "      <td>123</td>\n",
       "      <td>What factors influence the marketing operation...</td>\n",
       "      <td>NON_RELEVANT</td>\n",
       "      <td>The generated answer does not address the ques...</td>\n",
       "    </tr>\n",
       "    <tr>\n",
       "      <th>54</th>\n",
       "      <td>The provided CONTEXT does not contain specific...</td>\n",
       "      <td>32</td>\n",
       "      <td>In what ways do marketing consultants differ f...</td>\n",
       "      <td>NON_RELEVANT</td>\n",
       "      <td>The generated answer explicitly states that it...</td>\n",
       "    </tr>\n",
       "    <tr>\n",
       "      <th>64</th>\n",
       "      <td>The provided context does not contain informat...</td>\n",
       "      <td>135</td>\n",
       "      <td>How frequently are marketing operations salary...</td>\n",
       "      <td>NON_RELEVANT</td>\n",
       "      <td>The generated answer does not provide any info...</td>\n",
       "    </tr>\n",
       "    <tr>\n",
       "      <th>67</th>\n",
       "      <td>Based on the provided CONTEXT, specific elemen...</td>\n",
       "      <td>14</td>\n",
       "      <td>Are there any specific elements that should be...</td>\n",
       "      <td>NON_RELEVANT</td>\n",
       "      <td>The generated answer does not address the ques...</td>\n",
       "    </tr>\n",
       "    <tr>\n",
       "      <th>70</th>\n",
       "      <td>The CONTEXT provided does not specify the fact...</td>\n",
       "      <td>3</td>\n",
       "      <td>What factors influence the ideal keyword densi...</td>\n",
       "      <td>NON_RELEVANT</td>\n",
       "      <td>The generated answer does not address the ques...</td>\n",
       "    </tr>\n",
       "    <tr>\n",
       "      <th>79</th>\n",
       "      <td>The provided context does not include specific...</td>\n",
       "      <td>71</td>\n",
       "      <td>Are there different types of website hosting p...</td>\n",
       "      <td>NON_RELEVANT</td>\n",
       "      <td>The generated answer states that the provided ...</td>\n",
       "    </tr>\n",
       "    <tr>\n",
       "      <th>86</th>\n",
       "      <td>The CONTEXT does not provide specific tools re...</td>\n",
       "      <td>24</td>\n",
       "      <td>Are there specific tools recommended for imple...</td>\n",
       "      <td>NON_RELEVANT</td>\n",
       "      <td>The generated answer states that the CONTEXT d...</td>\n",
       "    </tr>\n",
       "    <tr>\n",
       "      <th>95</th>\n",
       "      <td>The provided context does not directly answer ...</td>\n",
       "      <td>28</td>\n",
       "      <td>Why is it important to have a clearly defined ...</td>\n",
       "      <td>NON_RELEVANT</td>\n",
       "      <td>The generated answer does not address the ques...</td>\n",
       "    </tr>\n",
       "  </tbody>\n",
       "</table>\n",
       "</div>"
      ],
      "text/plain": [
       "                                           answer_llm   id  \\\n",
       "2   The CONTEXT does not provide specific informat...   38   \n",
       "5   The CONTEXT does not provide specific details ...  118   \n",
       "7   The provided CONTEXT does not include specific...   91   \n",
       "8   The CONTEXT does not provide specific details ...  124   \n",
       "9   The provided context doesn't explicitly detail...  109   \n",
       "21  The CONTEXT does not provide specific informat...  114   \n",
       "22  Unfortunately, the provided context does not i...  130   \n",
       "26  The CONTEXT does not provide specific types of...  108   \n",
       "27  Based on the context provided, there are no sp...   12   \n",
       "30  The context provided does not contain informat...    4   \n",
       "39  The CONTEXT provided does not specifically add...   79   \n",
       "44  The provided context does not contain informat...  101   \n",
       "49  The provided CONTEXT does not include specific...  125   \n",
       "53  The CONTEXT provided does not include specific...  123   \n",
       "54  The provided CONTEXT does not contain specific...   32   \n",
       "64  The provided context does not contain informat...  135   \n",
       "67  Based on the provided CONTEXT, specific elemen...   14   \n",
       "70  The CONTEXT provided does not specify the fact...    3   \n",
       "79  The provided context does not include specific...   71   \n",
       "86  The CONTEXT does not provide specific tools re...   24   \n",
       "95  The provided context does not directly answer ...   28   \n",
       "\n",
       "                                             question     relevance  \\\n",
       "2   What types of marketing variables are typicall...  NON_RELEVANT   \n",
       "5   What topics are covered in the marketing opera...  NON_RELEVANT   \n",
       "7   What information is typically included in a we...  NON_RELEVANT   \n",
       "8   What skills are important for a successful mar...  NON_RELEVANT   \n",
       "9   What are the advantages of using outbound mark...  NON_RELEVANT   \n",
       "21  What skills are typically required for someone...  NON_RELEVANT   \n",
       "22  How can I participate in a marketing operation...  NON_RELEVANT   \n",
       "26  What types of content are typically used in in...  NON_RELEVANT   \n",
       "27  Are there any examples of successful value pro...  NON_RELEVANT   \n",
       "30  How can I check the backlinks pointing to my w...  NON_RELEVANT   \n",
       "39  Are there best practices for placement of a ca...  NON_RELEVANT   \n",
       "44  How does a mobile app function on a smartphone...  NON_RELEVANT   \n",
       "49  What should I look for when selecting a market...  NON_RELEVANT   \n",
       "53  What factors influence the marketing operation...  NON_RELEVANT   \n",
       "54  In what ways do marketing consultants differ f...  NON_RELEVANT   \n",
       "64  How frequently are marketing operations salary...  NON_RELEVANT   \n",
       "67  Are there any specific elements that should be...  NON_RELEVANT   \n",
       "70  What factors influence the ideal keyword densi...  NON_RELEVANT   \n",
       "79  Are there different types of website hosting p...  NON_RELEVANT   \n",
       "86  Are there specific tools recommended for imple...  NON_RELEVANT   \n",
       "95  Why is it important to have a clearly defined ...  NON_RELEVANT   \n",
       "\n",
       "                                          explanation  \n",
       "2   The generated answer fails to address the spec...  \n",
       "5   The generated answer fails to address the ques...  \n",
       "7   The generated answer does not address the ques...  \n",
       "8   The generated answer fails to address the ques...  \n",
       "9   The generated answer does not address the ques...  \n",
       "21  The generated answer does not address the ques...  \n",
       "22  The generated answer does not provide any info...  \n",
       "26  The generated answer does not address the ques...  \n",
       "27  The generated answer does not provide any exam...  \n",
       "30  The generated answer states that it does not c...  \n",
       "39  The generated answer states that the provided ...  \n",
       "44  The generated answer fails to address the ques...  \n",
       "49  The generated answer does not provide any info...  \n",
       "53  The generated answer does not address the ques...  \n",
       "54  The generated answer explicitly states that it...  \n",
       "64  The generated answer does not provide any info...  \n",
       "67  The generated answer does not address the ques...  \n",
       "70  The generated answer does not address the ques...  \n",
       "79  The generated answer states that the provided ...  \n",
       "86  The generated answer states that the CONTEXT d...  \n",
       "95  The generated answer does not address the ques...  "
      ]
     },
     "execution_count": 53,
     "metadata": {},
     "output_type": "execute_result"
    }
   ],
   "source": [
    "df_eval_2[df_eval_2.relevance == 'NON_RELEVANT']"
   ]
  }
 ],
 "metadata": {
  "kernelspec": {
   "display_name": "Python 3",
   "language": "python",
   "name": "python3"
  },
  "language_info": {
   "codemirror_mode": {
    "name": "ipython",
    "version": 3
   },
   "file_extension": ".py",
   "mimetype": "text/x-python",
   "name": "python",
   "nbconvert_exporter": "python",
   "pygments_lexer": "ipython3",
   "version": "3.12.1"
  }
 },
 "nbformat": 4,
 "nbformat_minor": 2
}
