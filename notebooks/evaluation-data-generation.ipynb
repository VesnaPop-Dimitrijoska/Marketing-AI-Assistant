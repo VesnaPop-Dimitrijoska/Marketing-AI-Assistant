{
 "cells": [
  {
   "cell_type": "code",
   "execution_count": 2,
   "metadata": {},
   "outputs": [],
   "source": [
    "import pandas as pd\n",
    "import os\n",
    "import json\n",
    "from tqdm.auto import tqdm\n",
    "\n",
    "openai_api_key = os.environ.get('OPENAI_API_KEY')\n",
    "from openai import OpenAI"
   ]
  },
  {
   "cell_type": "code",
   "execution_count": 3,
   "metadata": {},
   "outputs": [],
   "source": [
    "client = OpenAI()"
   ]
  },
  {
   "cell_type": "code",
   "execution_count": 4,
   "metadata": {},
   "outputs": [
    {
     "data": {
      "text/html": [
       "<div>\n",
       "<style scoped>\n",
       "    .dataframe tbody tr th:only-of-type {\n",
       "        vertical-align: middle;\n",
       "    }\n",
       "\n",
       "    .dataframe tbody tr th {\n",
       "        vertical-align: top;\n",
       "    }\n",
       "\n",
       "    .dataframe thead th {\n",
       "        text-align: right;\n",
       "    }\n",
       "</style>\n",
       "<table border=\"1\" class=\"dataframe\">\n",
       "  <thead>\n",
       "    <tr style=\"text-align: right;\">\n",
       "      <th></th>\n",
       "      <th>Question_ID</th>\n",
       "      <th>Question</th>\n",
       "      <th>Answer</th>\n",
       "    </tr>\n",
       "  </thead>\n",
       "  <tbody>\n",
       "    <tr>\n",
       "      <th>0</th>\n",
       "      <td>1</td>\n",
       "      <td>What is the difference between SEO and SEM?</td>\n",
       "      <td>SEO focuses on organic search results, while S...</td>\n",
       "    </tr>\n",
       "    <tr>\n",
       "      <th>1</th>\n",
       "      <td>2</td>\n",
       "      <td>What is a meta description?</td>\n",
       "      <td>A meta description is a brief summary of a web...</td>\n",
       "    </tr>\n",
       "    <tr>\n",
       "      <th>2</th>\n",
       "      <td>3</td>\n",
       "      <td>What is a keyword density?</td>\n",
       "      <td>Keyword density is the number of times a keywo...</td>\n",
       "    </tr>\n",
       "    <tr>\n",
       "      <th>3</th>\n",
       "      <td>4</td>\n",
       "      <td>What is a backlink?</td>\n",
       "      <td>A backlink is a hyperlink that points to your ...</td>\n",
       "    </tr>\n",
       "    <tr>\n",
       "      <th>4</th>\n",
       "      <td>5</td>\n",
       "      <td>What is a website audit?</td>\n",
       "      <td>A website audit is a comprehensive analysis of...</td>\n",
       "    </tr>\n",
       "    <tr>\n",
       "      <th>...</th>\n",
       "      <td>...</td>\n",
       "      <td>...</td>\n",
       "      <td>...</td>\n",
       "    </tr>\n",
       "    <tr>\n",
       "      <th>131</th>\n",
       "      <td>132</td>\n",
       "      <td>What is a marketing operations certification e...</td>\n",
       "      <td>A marketing operations certification exam is a...</td>\n",
       "    </tr>\n",
       "    <tr>\n",
       "      <th>132</th>\n",
       "      <td>133</td>\n",
       "      <td>What is a marketing operations professional as...</td>\n",
       "      <td>A marketing operations professional associatio...</td>\n",
       "    </tr>\n",
       "    <tr>\n",
       "      <th>133</th>\n",
       "      <td>134</td>\n",
       "      <td>What is a marketing operations job description?</td>\n",
       "      <td>A marketing operations job description outline...</td>\n",
       "    </tr>\n",
       "    <tr>\n",
       "      <th>134</th>\n",
       "      <td>135</td>\n",
       "      <td>What is a marketing operations salary survey?</td>\n",
       "      <td>A marketing operations salary survey provides ...</td>\n",
       "    </tr>\n",
       "    <tr>\n",
       "      <th>135</th>\n",
       "      <td>136</td>\n",
       "      <td>What is a marketing operations industry report?</td>\n",
       "      <td>A marketing operations industry report provide...</td>\n",
       "    </tr>\n",
       "  </tbody>\n",
       "</table>\n",
       "<p>136 rows × 3 columns</p>\n",
       "</div>"
      ],
      "text/plain": [
       "     Question_ID                                           Question  \\\n",
       "0              1        What is the difference between SEO and SEM?   \n",
       "1              2                        What is a meta description?   \n",
       "2              3                         What is a keyword density?   \n",
       "3              4                                What is a backlink?   \n",
       "4              5                           What is a website audit?   \n",
       "..           ...                                                ...   \n",
       "131          132  What is a marketing operations certification e...   \n",
       "132          133  What is a marketing operations professional as...   \n",
       "133          134    What is a marketing operations job description?   \n",
       "134          135      What is a marketing operations salary survey?   \n",
       "135          136    What is a marketing operations industry report?   \n",
       "\n",
       "                                                Answer  \n",
       "0    SEO focuses on organic search results, while S...  \n",
       "1    A meta description is a brief summary of a web...  \n",
       "2    Keyword density is the number of times a keywo...  \n",
       "3    A backlink is a hyperlink that points to your ...  \n",
       "4    A website audit is a comprehensive analysis of...  \n",
       "..                                                 ...  \n",
       "131  A marketing operations certification exam is a...  \n",
       "132  A marketing operations professional associatio...  \n",
       "133  A marketing operations job description outline...  \n",
       "134  A marketing operations salary survey provides ...  \n",
       "135  A marketing operations industry report provide...  \n",
       "\n",
       "[136 rows x 3 columns]"
      ]
     },
     "execution_count": 4,
     "metadata": {},
     "output_type": "execute_result"
    }
   ],
   "source": [
    "df = pd.read_csv('../data/data.csv', sep=';')\n",
    "df"
   ]
  },
  {
   "cell_type": "code",
   "execution_count": 5,
   "metadata": {},
   "outputs": [
    {
     "data": {
      "text/plain": [
       "{'Question_ID': 1,\n",
       " 'Question': 'What is the difference between SEO and SEM?',\n",
       " 'Answer': 'SEO focuses on organic search results, while SEM includes both organic and paid search results.'}"
      ]
     },
     "execution_count": 5,
     "metadata": {},
     "output_type": "execute_result"
    }
   ],
   "source": [
    "documents = df.to_dict(orient='records')\n",
    "documents[0]"
   ]
  },
  {
   "cell_type": "markdown",
   "metadata": {},
   "source": [
    "## Generating gold standard evaluation data"
   ]
  },
  {
   "cell_type": "code",
   "execution_count": 9,
   "metadata": {},
   "outputs": [],
   "source": [
    "prompt_template = \"\"\"\n",
    "You emulate a user od our marketing ai assistant application. \n",
    "Formulate 5 questions this user might ask based on a FAQ record. \n",
    "The record should contain the answer to the questions, and the questions should be complete and not too short.\n",
    "\n",
    "The record:\n",
    "\n",
    "Question_ID:{Question_ID}\n",
    "Question: {Question}\n",
    "Answer: {Answer}\n",
    "\n",
    "Provide the output in parsable JSON without using code blocks:\n",
    "\n",
    "[\"question1\", \"question2\", ..., \"question5\"]\n",
    "\"\"\".strip()"
   ]
  },
  {
   "cell_type": "code",
   "execution_count": 10,
   "metadata": {},
   "outputs": [],
   "source": [
    "def llm(prompt):\n",
    "    response = client.chat.completions.create(\n",
    "        model='gpt-4o-mini',\n",
    "        messages=[{\"role\": \"user\", \"content\": prompt}]\n",
    "    )\n",
    "    \n",
    "    return response.choices[0].message.content"
   ]
  },
  {
   "cell_type": "code",
   "execution_count": 11,
   "metadata": {},
   "outputs": [],
   "source": [
    "prompt = prompt_template.format(**documents[0])"
   ]
  },
  {
   "cell_type": "code",
   "execution_count": 12,
   "metadata": {},
   "outputs": [],
   "source": [
    "questions = llm(prompt)"
   ]
  },
  {
   "cell_type": "code",
   "execution_count": 13,
   "metadata": {},
   "outputs": [
    {
     "data": {
      "text/plain": [
       "['What are the main differences between SEO and SEM?',\n",
       " 'Can you explain how SEO relates to organic search results and SEM to paid search results?',\n",
       " 'What does SEO stand for and how is it different from SEM?',\n",
       " 'In the context of digital marketing, how do SEO and SEM compare in terms of strategy?',\n",
       " 'Is there a situation where a business should prioritize SEM over SEO?']"
      ]
     },
     "execution_count": 13,
     "metadata": {},
     "output_type": "execute_result"
    }
   ],
   "source": [
    "json.loads(questions)"
   ]
  },
  {
   "cell_type": "code",
   "execution_count": 14,
   "metadata": {},
   "outputs": [],
   "source": [
    "def generate_questions(doc):\n",
    "    prompt = prompt_template.format(**doc)\n",
    "\n",
    "    response = client.chat.completions.create(\n",
    "        model='gpt-4o-mini',\n",
    "        messages=[{\"role\": \"user\", \"content\": prompt}]\n",
    "    )\n",
    "\n",
    "    json_response = response.choices[0].message.content\n",
    "    return json_response"
   ]
  },
  {
   "cell_type": "code",
   "execution_count": 15,
   "metadata": {},
   "outputs": [],
   "source": [
    "results = {}"
   ]
  },
  {
   "cell_type": "code",
   "execution_count": 16,
   "metadata": {},
   "outputs": [
    {
     "data": {
      "application/vnd.jupyter.widget-view+json": {
       "model_id": "98e5fd0bdf5f493ea0f916a23ec0860e",
       "version_major": 2,
       "version_minor": 0
      },
      "text/plain": [
       "  0%|          | 0/136 [00:00<?, ?it/s]"
      ]
     },
     "metadata": {},
     "output_type": "display_data"
    },
    {
     "data": {
      "text/plain": [
       "['Can you explain what a marketing operations industry report is and its significance?',\n",
       " 'What type of insights can I expect to find in a marketing operations industry report?',\n",
       " 'What are some of the trends highlighted in a marketing operations industry report?',\n",
       " 'How can a marketing operations industry report help me understand the challenges in the field?',\n",
       " 'Is a marketing operations industry report beneficial for making strategic marketing decisions?']"
      ]
     },
     "execution_count": 16,
     "metadata": {},
     "output_type": "execute_result"
    }
   ],
   "source": [
    "\n",
    "for doc in tqdm(documents): \n",
    "    doc_id = doc['Question_ID']\n",
    "    if doc_id in results:\n",
    "        continue\n",
    "\n",
    "    questions_raw = generate_questions(doc)\n",
    "    questions = json.loads(questions_raw)\n",
    "    results[doc_id] = questions\n",
    "\n",
    "questions"
   ]
  },
  {
   "cell_type": "code",
   "execution_count": 17,
   "metadata": {},
   "outputs": [
    {
     "data": {
      "text/plain": [
       "(1,\n",
       " 'What are the main distinctions between SEO and SEM in terms of search strategies?')"
      ]
     },
     "execution_count": 17,
     "metadata": {},
     "output_type": "execute_result"
    }
   ],
   "source": [
    "final_results = []\n",
    "\n",
    "for doc_id, questions in results.items():\n",
    "    for q in questions:\n",
    "        final_results.append((doc_id, q))\n",
    "        \n",
    "final_results[0]"
   ]
  },
  {
   "cell_type": "code",
   "execution_count": 18,
   "metadata": {},
   "outputs": [
    {
     "data": {
      "text/html": [
       "<div>\n",
       "<style scoped>\n",
       "    .dataframe tbody tr th:only-of-type {\n",
       "        vertical-align: middle;\n",
       "    }\n",
       "\n",
       "    .dataframe tbody tr th {\n",
       "        vertical-align: top;\n",
       "    }\n",
       "\n",
       "    .dataframe thead th {\n",
       "        text-align: right;\n",
       "    }\n",
       "</style>\n",
       "<table border=\"1\" class=\"dataframe\">\n",
       "  <thead>\n",
       "    <tr style=\"text-align: right;\">\n",
       "      <th></th>\n",
       "      <th>Question_ID</th>\n",
       "      <th>Question</th>\n",
       "    </tr>\n",
       "  </thead>\n",
       "  <tbody>\n",
       "    <tr>\n",
       "      <th>0</th>\n",
       "      <td>1</td>\n",
       "      <td>What are the main distinctions between SEO and...</td>\n",
       "    </tr>\n",
       "    <tr>\n",
       "      <th>1</th>\n",
       "      <td>1</td>\n",
       "      <td>Can you explain how SEO contributes to organic...</td>\n",
       "    </tr>\n",
       "    <tr>\n",
       "      <th>2</th>\n",
       "      <td>1</td>\n",
       "      <td>What elements are included in SEM apart from o...</td>\n",
       "    </tr>\n",
       "    <tr>\n",
       "      <th>3</th>\n",
       "      <td>1</td>\n",
       "      <td>How do SEO and SEM work together to improve on...</td>\n",
       "    </tr>\n",
       "    <tr>\n",
       "      <th>4</th>\n",
       "      <td>1</td>\n",
       "      <td>Is it possible for a business to rely solely o...</td>\n",
       "    </tr>\n",
       "    <tr>\n",
       "      <th>...</th>\n",
       "      <td>...</td>\n",
       "      <td>...</td>\n",
       "    </tr>\n",
       "    <tr>\n",
       "      <th>675</th>\n",
       "      <td>136</td>\n",
       "      <td>Can you explain what a marketing operations in...</td>\n",
       "    </tr>\n",
       "    <tr>\n",
       "      <th>676</th>\n",
       "      <td>136</td>\n",
       "      <td>What type of insights can I expect to find in ...</td>\n",
       "    </tr>\n",
       "    <tr>\n",
       "      <th>677</th>\n",
       "      <td>136</td>\n",
       "      <td>What are some of the trends highlighted in a m...</td>\n",
       "    </tr>\n",
       "    <tr>\n",
       "      <th>678</th>\n",
       "      <td>136</td>\n",
       "      <td>How can a marketing operations industry report...</td>\n",
       "    </tr>\n",
       "    <tr>\n",
       "      <th>679</th>\n",
       "      <td>136</td>\n",
       "      <td>Is a marketing operations industry report bene...</td>\n",
       "    </tr>\n",
       "  </tbody>\n",
       "</table>\n",
       "<p>680 rows × 2 columns</p>\n",
       "</div>"
      ],
      "text/plain": [
       "     Question_ID                                           Question\n",
       "0              1  What are the main distinctions between SEO and...\n",
       "1              1  Can you explain how SEO contributes to organic...\n",
       "2              1  What elements are included in SEM apart from o...\n",
       "3              1  How do SEO and SEM work together to improve on...\n",
       "4              1  Is it possible for a business to rely solely o...\n",
       "..           ...                                                ...\n",
       "675          136  Can you explain what a marketing operations in...\n",
       "676          136  What type of insights can I expect to find in ...\n",
       "677          136  What are some of the trends highlighted in a m...\n",
       "678          136  How can a marketing operations industry report...\n",
       "679          136  Is a marketing operations industry report bene...\n",
       "\n",
       "[680 rows x 2 columns]"
      ]
     },
     "execution_count": 18,
     "metadata": {},
     "output_type": "execute_result"
    }
   ],
   "source": [
    "df_results = pd.DataFrame(final_results, columns=['Question_ID', 'Question'])\n",
    "df_results"
   ]
  },
  {
   "cell_type": "code",
   "execution_count": 19,
   "metadata": {},
   "outputs": [],
   "source": [
    "df_results.to_csv('../data/ground-truth-retrieval.csv', index=False)"
   ]
  },
  {
   "cell_type": "code",
   "execution_count": 20,
   "metadata": {},
   "outputs": [
    {
     "name": "stdout",
     "output_type": "stream",
     "text": [
      "Question_ID,Question\n",
      "1,What are the main distinctions between SEO and SEM in terms of search strategies?\n",
      "1,Can you explain how SEO contributes to organic search results?\n",
      "1,What elements are included in SEM apart from organic search?\n",
      "1,How do SEO and SEM work together to improve online visibility?\n",
      "1,Is it possible for a business to rely solely on SEO without using SEM?\n",
      "2,What exactly is a meta description in the context of web content?\n",
      "2,Can you explain the role of a meta description in search engine results?\n",
      "2,How does a meta description summarize the content of a webpage?\n",
      "2,What is the importance of having an effective meta description for SEO?\n"
     ]
    }
   ],
   "source": [
    "!head ../data/ground-truth-retrieval.csv"
   ]
  }
 ],
 "metadata": {
  "kernelspec": {
   "display_name": "Python 3",
   "language": "python",
   "name": "python3"
  },
  "language_info": {
   "codemirror_mode": {
    "name": "ipython",
    "version": 3
   },
   "file_extension": ".py",
   "mimetype": "text/x-python",
   "name": "python",
   "nbconvert_exporter": "python",
   "pygments_lexer": "ipython3",
   "version": "3.12.1"
  }
 },
 "nbformat": 4,
 "nbformat_minor": 2
}
